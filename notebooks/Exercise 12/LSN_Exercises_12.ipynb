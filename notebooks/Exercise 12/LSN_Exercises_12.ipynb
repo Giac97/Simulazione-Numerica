{
 "cells": [
  {
   "cell_type": "markdown",
   "metadata": {
    "id": "SKgsYmgn2IAs"
   },
   "source": [
    "# <span style=\"color:green\"> Numerical Simulation Laboratory </span>\n",
    "## <span style=\"color:brown\"> Python Exercise 12 </span>\n",
    "## <span style=\"color:orange\"> Keras - Deep & Convolutional Neural Network image recognition </span>"
   ]
  },
  {
   "cell_type": "markdown",
   "metadata": {
    "id": "-4qWy1QJ2IAv"
   },
   "source": [
    "### MNIST with Keras\n",
    "\n",
    "The goal of exercise 12 is to use deep neural network models, implemented in the Keras python package, to recognize and distinguish between the ten handwritten digits (0-9).\n",
    "\n",
    "The MNIST dataset comprises $70000$ handwritten digits, each of which comes in a square image, divided into a $28\\times 28$ pixel grid. Every pixel can take on $256$ gradation of the gray color, interpolating between white and black, and hence each data point assumes any value in the set $\\{0,1,\\dots,255\\}$. Since there are $10$ categories in the problem, corresponding to the ten digits, this problem represents a generic **classification task**."
   ]
  },
  {
   "cell_type": "code",
   "execution_count": 2,
   "metadata": {
    "id": "ED9P0C1W2IAw"
   },
   "outputs": [],
   "source": [
    "#import os\n",
    "#os.environ['KMP_DUPLICATE_LIB_OK']='True' #This is needed in my Anaconda+MacOsX installation; leave it commented.\n",
    "import tensorflow as tf\n",
    "from tensorflow import keras\n",
    "import os\n",
    "import numpy as np\n",
    "import matplotlib.pyplot as plt\n",
    "seed=0\n",
    "np.random.seed(seed) # fix random seed\n",
    "tf.random.set_seed(seed)"
   ]
  },
  {
   "cell_type": "markdown",
   "metadata": {
    "id": "8Inr5u-b2IAx"
   },
   "source": [
    "#### Step 1: Load and Process the Data\n",
    "\n",
    "Keras can conveniently download the MNIST data from the web. All we need to do is import the `mnist` module and use the `load_data()` class, and it will create the training and test data sets or us.\n",
    "\n",
    "The MNIST set has pre-defined test and training sets, in order to facilitate the comparison of the performance of different models on the data.\n",
    "\n",
    "Once we have loaded the data, we need to format it in the correct shape."
   ]
  },
  {
   "cell_type": "code",
   "execution_count": 3,
   "metadata": {
    "colab": {
     "base_uri": "https://localhost:8080/"
    },
    "id": "6DvUq04J2IAy",
    "outputId": "e5fd68d8-7e3d-4cce-ef3f-a9172d78688d"
   },
   "outputs": [
    {
     "name": "stdout",
     "output_type": "stream",
     "text": [
      "X_train shape: (60000, 28, 28)\n",
      "Y_train shape: (60000,)\n"
     ]
    }
   ],
   "source": [
    "from keras.datasets import mnist\n",
    "\n",
    "# input image dimensions\n",
    "img_rows, img_cols = 28, 28 # number of pixels\n",
    "# output\n",
    "num_classes = 10 # 10 digits\n",
    "\n",
    "# the data, split between train and test sets\n",
    "(X_train, Y_train), (X_test, Y_test) = mnist.load_data()\n",
    "\n",
    "print('X_train shape:', X_train.shape)\n",
    "print('Y_train shape:', Y_train.shape)"
   ]
  },
  {
   "cell_type": "markdown",
   "metadata": {
    "id": "6iQ6tZVz2IAz"
   },
   "source": [
    "#### Example: to_categorical\n",
    "\n",
    "Converts a class vector (integers) to binary class matrix. E.g. for use with categorical_crossentropy."
   ]
  },
  {
   "cell_type": "code",
   "execution_count": 4,
   "metadata": {
    "colab": {
     "base_uri": "https://localhost:8080/"
    },
    "id": "E1QiVEBU2IAz",
    "outputId": "aa8fd5a7-4360-4501-e53b-2c354d9a4979"
   },
   "outputs": [
    {
     "data": {
      "text/plain": [
       "array([[1., 0., 0.],\n",
       "       [0., 0., 1.],\n",
       "       [0., 1., 0.],\n",
       "       [0., 0., 1.],\n",
       "       [1., 0., 0.]], dtype=float32)"
      ]
     },
     "execution_count": 4,
     "metadata": {},
     "output_type": "execute_result"
    }
   ],
   "source": [
    "# Consider an array of 5 labels out of a set of 3 classes {0, 1, 2}:\n",
    "labels = np.array([0, 2, 1, 2, 0])\n",
    "# `to_categorical` converts this into a matrix with as many columns as there are classes.\n",
    "# The number of rows stays the same.\n",
    "keras.utils.to_categorical(labels)"
   ]
  },
  {
   "cell_type": "markdown",
   "metadata": {
    "id": "5wVaCS_f2IA0"
   },
   "source": [
    "#### Reshape data and convert labels to be used with categorical cross entropy"
   ]
  },
  {
   "cell_type": "code",
   "execution_count": 5,
   "metadata": {
    "colab": {
     "base_uri": "https://localhost:8080/",
     "height": 576
    },
    "id": "Z7MupBPJ2IA0",
    "outputId": "6b9eba7f-a17b-49f0-be53-e2d6c7e56daf"
   },
   "outputs": [
    {
     "name": "stdout",
     "output_type": "stream",
     "text": [
      "X_train shape: (60000, 784)\n",
      "X_test shape: (10000, 784)\n",
      "\n",
      "an example of a data point with label 4\n"
     ]
    },
    {
     "data": {
      "image/png": "[encoded data removed]",
      "text/plain": [
       "<Figure size 480x480 with 1 Axes>"
      ]
     },
     "metadata": {},
     "output_type": "display_data"
    },
    {
     "name": "stdout",
     "output_type": "stream",
     "text": [
      "... and with label [0. 0. 0. 0. 1. 0. 0. 0. 0. 0.] after to_categorical\n",
      "\n",
      "X_train shape: (60000, 784)\n",
      "Y_train shape: (60000, 10)\n"
     ]
    }
   ],
   "source": [
    "# reshape data, it could depend on Keras backend\n",
    "X_train = X_train.reshape(X_train.shape[0], img_rows*img_cols)\n",
    "X_test = X_test.reshape(X_test.shape[0], img_rows*img_cols)\n",
    "print('X_train shape:', X_train.shape)\n",
    "print('X_test shape:', X_test.shape)\n",
    "print()\n",
    "\n",
    "# cast to floats\n",
    "X_train = X_train.astype('float32')\n",
    "X_test = X_test.astype('float32')\n",
    "\n",
    "# rescale data in interval [0,1]\n",
    "X_train /= 255\n",
    "X_test /= 255\n",
    "\n",
    "# look at an example of data point\n",
    "print('an example of a data point with label', Y_train[20])\n",
    "# matshow: display a matrix in a new figure window\n",
    "plt.matshow(X_train[20,:].reshape(28,28),cmap='binary')\n",
    "plt.show()\n",
    "\n",
    "# convert class vectors to binary class matrices, e.g. for use with categorical_crossentropy\n",
    "Y_train = keras.utils.to_categorical(Y_train, num_classes)\n",
    "Y_test = keras.utils.to_categorical(Y_test, num_classes)\n",
    "print('... and with label', Y_train[20], 'after to_categorical')\n",
    "print()\n",
    "print('X_train shape:', X_train.shape)\n",
    "print('Y_train shape:', Y_train.shape)"
   ]
  },
  {
   "cell_type": "markdown",
   "metadata": {
    "id": "JajMTW5d2IA1"
   },
   "source": [
    "#### Step 2: Define the Neural Net and its Architecture\n",
    "\n",
    "We can now move on to construct our deep neural net. We shall use Keras's `Sequential()` class to instantiate a model, and will add different deep layers one by one using the `add()` method\n",
    "\n",
    "For the purposes of our example, it suffices to focus on `Dense` layers for simplicity. Every `Dense()` layer accepts as its first required argument an integer which specifies the number of neurons. The type of activation function for the layer is defined using the `activation` optional argument, the input of which is the name of the activation function in `string` format. Examples include `relu`, `tanh`, `elu`, `sigmoid`, `softmax`.\n",
    "\n",
    "In order for our DNN to work properly, we have to make sure that the numbers of input and output neurons for each layer match. Therefore, we specify the shape of the input in the first layer of the model explicitly using the optional argument `input_shape=(N_features,)`. The sequential construction of the model then allows Keras to infer the correct input/output dimensions of all hidden layers automatically. Hence, we only need to specify the size of the softmax output layer to match the number of categories."
   ]
  },
  {
   "cell_type": "code",
   "execution_count": 5,
   "metadata": {
    "colab": {
     "base_uri": "https://localhost:8080/"
    },
    "id": "88q_ZM_a2IA2",
    "outputId": "2db1eb2d-0fcb-4ab5-a069-14406e5f5bb3"
   },
   "outputs": [
    {
     "name": "stdout",
     "output_type": "stream",
     "text": [
      "Model architecture created successfully!\n"
     ]
    }
   ],
   "source": [
    "from keras.models import Sequential\n",
    "from keras.layers import Dense, Dropout\n",
    "\n",
    "def create_DNN():\n",
    "    # instantiate model\n",
    "    model = Sequential()\n",
    "    # add a dense all-to-all relu layer\n",
    "    model.add(Dense(400,input_shape=(img_rows*img_cols,), activation='relu'))\n",
    "    # add a dense all-to-all relu layer\n",
    "    model.add(Dense(100, activation='relu'))\n",
    "    # apply dropout with rate 0.5\n",
    "    model.add(Dropout(0.5))\n",
    "    # soft-max layer\n",
    "    model.add(Dense(num_classes, activation='softmax'))\n",
    "\n",
    "    return model\n",
    "\n",
    "print('Model architecture created successfully!')"
   ]
  },
  {
   "cell_type": "markdown",
   "metadata": {
    "id": "4W8ZGzaf2IA3"
   },
   "source": [
    "#### Step 3: Choose the Optimizer and the Cost Function\n",
    "\n",
    "Next, we choose the loss function according to which to train the DNN. For classification problems, this is the cross entropy, and since the output data was cast in categorical form, we choose the `categorical_crossentropy` defined in Keras' `losses` module. Depending on the problem of interest one can pick any other suitable loss function. To optimize the weights of the net, we choose SGD. This algorithm is already available to use under Keras' `optimizers` module, but we could use any other built-in one as well. The parameters for the optimizer, such as `lr` (learning rate) or `momentum` are passed using the corresponding optional arguments of the `SGD()` function. All available arguments can be found in Keras' online documentation at [https://keras.io/](https://keras.io/). While the loss function and the optimizer are essential for the training procedure, to test the performance of the model one may want to look at a particular `metric` of performance. For instance, in categorical tasks one typically looks at their `accuracy`, which is defined as the percentage of correctly classified data points. To complete the definition of our model, we use the `compile()` method, with optional arguments for the `optimizer`, `loss`, and the validation `metric` as follows:"
   ]
  },
  {
   "cell_type": "code",
   "execution_count": 6,
   "metadata": {
    "colab": {
     "base_uri": "https://localhost:8080/"
    },
    "id": "7LRupyCb2IA3",
    "outputId": "32b7f740-97ee-406b-e77f-f1bb154ea3f9"
   },
   "outputs": [
    {
     "name": "stdout",
     "output_type": "stream",
     "text": [
      "Model compiled successfully and ready to be trained.\n"
     ]
    }
   ],
   "source": [
    "from keras.optimizers import SGD, Adam, RMSprop, Adagrad, Adadelta, Adam, Adamax, Nadam\n",
    "\n",
    "def compile_model():\n",
    "    # create the model\n",
    "    model=create_DNN()\n",
    "    # compile the model\n",
    "    model.compile(loss=keras.losses.categorical_crossentropy,\n",
    "                  optimizer=SGD(),\n",
    "                  metrics=['acc'])\n",
    "    return model\n",
    "\n",
    "print('Model compiled successfully and ready to be trained.')"
   ]
  },
  {
   "cell_type": "markdown",
   "metadata": {
    "id": "9_tR6HXc2IA3"
   },
   "source": [
    "#### Step 4: Train the model\n",
    "\n",
    "We train our DNN in minibatches.\n",
    "\n",
    "Shuffling the training data during training improves stability of the model. Thus, we train over a number of training epochs. Each epoch corresponds to using **all the train data** divided in minibatches.\n",
    "\n",
    "Training the DNN is a one-liner using the `fit()` method of the `Sequential` class. The first two required arguments are the training input and output data. As optional arguments, we specify the mini-`batch_size`, the number of training `epochs`, and the test or `validation_data`. To monitor the training procedure for every epoch, we set `verbose=True`."
   ]
  },
  {
   "cell_type": "code",
   "execution_count": 7,
   "metadata": {
    "colab": {
     "base_uri": "https://localhost:8080/"
    },
    "id": "fObOaZfr2IA4",
    "outputId": "4dc283ef-1c8c-4924-a8b0-2082bc5a5f1f"
   },
   "outputs": [
    {
     "name": "stdout",
     "output_type": "stream",
     "text": [
      "Epoch 1/25\n",
      "1875/1875 [==============================] - 9s 4ms/step - loss: 0.7742 - acc: 0.7707 - val_loss: 0.3124 - val_acc: 0.9156\n",
      "Epoch 2/25\n",
      "1875/1875 [==============================] - 9s 5ms/step - loss: 0.3836 - acc: 0.8904 - val_loss: 0.2384 - val_acc: 0.9308\n",
      "Epoch 3/25\n",
      "1875/1875 [==============================] - 10s 5ms/step - loss: 0.3093 - acc: 0.9117 - val_loss: 0.2001 - val_acc: 0.9418\n",
      "Epoch 4/25\n",
      "1875/1875 [==============================] - 10s 5ms/step - loss: 0.2614 - acc: 0.9261 - val_loss: 0.1732 - val_acc: 0.9486\n",
      "Epoch 5/25\n",
      "1875/1875 [==============================] - 10s 6ms/step - loss: 0.2334 - acc: 0.9338 - val_loss: 0.1605 - val_acc: 0.9508\n",
      "Epoch 6/25\n",
      "1875/1875 [==============================] - 10s 6ms/step - loss: 0.2068 - acc: 0.9413 - val_loss: 0.1443 - val_acc: 0.9565\n",
      "Epoch 7/25\n",
      "1875/1875 [==============================] - 11s 6ms/step - loss: 0.1890 - acc: 0.9463 - val_loss: 0.1310 - val_acc: 0.9590\n",
      "Epoch 8/25\n",
      "1875/1875 [==============================] - 10s 6ms/step - loss: 0.1745 - acc: 0.9501 - val_loss: 0.1223 - val_acc: 0.9619\n",
      "Epoch 9/25\n",
      "1875/1875 [==============================] - 11s 6ms/step - loss: 0.1629 - acc: 0.9536 - val_loss: 0.1162 - val_acc: 0.9631\n",
      "Epoch 10/25\n",
      "1875/1875 [==============================] - 11s 6ms/step - loss: 0.1505 - acc: 0.9568 - val_loss: 0.1093 - val_acc: 0.9661\n",
      "Epoch 11/25\n",
      "1875/1875 [==============================] - 11s 6ms/step - loss: 0.1424 - acc: 0.9599 - val_loss: 0.1055 - val_acc: 0.9668\n",
      "Epoch 12/25\n",
      "1875/1875 [==============================] - 10s 5ms/step - loss: 0.1348 - acc: 0.9619 - val_loss: 0.0994 - val_acc: 0.9690\n",
      "Epoch 13/25\n",
      "1875/1875 [==============================] - 11s 6ms/step - loss: 0.1266 - acc: 0.9642 - val_loss: 0.0942 - val_acc: 0.9705\n",
      "Epoch 14/25\n",
      "1875/1875 [==============================] - 11s 6ms/step - loss: 0.1181 - acc: 0.9660 - val_loss: 0.0906 - val_acc: 0.9720\n",
      "Epoch 15/25\n",
      "1875/1875 [==============================] - 11s 6ms/step - loss: 0.1121 - acc: 0.9677 - val_loss: 0.0876 - val_acc: 0.9722\n",
      "Epoch 16/25\n",
      "1875/1875 [==============================] - 10s 5ms/step - loss: 0.1053 - acc: 0.9698 - val_loss: 0.0855 - val_acc: 0.9735\n",
      "Epoch 17/25\n",
      "1875/1875 [==============================] - 10s 5ms/step - loss: 0.1008 - acc: 0.9707 - val_loss: 0.0824 - val_acc: 0.9741\n",
      "Epoch 18/25\n",
      "1875/1875 [==============================] - 10s 5ms/step - loss: 0.0957 - acc: 0.9734 - val_loss: 0.0797 - val_acc: 0.9751\n",
      "Epoch 19/25\n",
      "1875/1875 [==============================] - 11s 6ms/step - loss: 0.0919 - acc: 0.9738 - val_loss: 0.0785 - val_acc: 0.9758\n",
      "Epoch 20/25\n",
      "1875/1875 [==============================] - 10s 6ms/step - loss: 0.0865 - acc: 0.9750 - val_loss: 0.0771 - val_acc: 0.9762\n",
      "Epoch 21/25\n",
      "1875/1875 [==============================] - 10s 5ms/step - loss: 0.0840 - acc: 0.9757 - val_loss: 0.0745 - val_acc: 0.9761\n",
      "Epoch 22/25\n",
      "1875/1875 [==============================] - 10s 5ms/step - loss: 0.0805 - acc: 0.9776 - val_loss: 0.0736 - val_acc: 0.9758\n",
      "Epoch 23/25\n",
      "1875/1875 [==============================] - 10s 5ms/step - loss: 0.0768 - acc: 0.9786 - val_loss: 0.0721 - val_acc: 0.9775\n",
      "Epoch 24/25\n",
      "1875/1875 [==============================] - 10s 5ms/step - loss: 0.0722 - acc: 0.9787 - val_loss: 0.0703 - val_acc: 0.9772\n",
      "Epoch 25/25\n",
      "1875/1875 [==============================] - 11s 6ms/step - loss: 0.0699 - acc: 0.9795 - val_loss: 0.0686 - val_acc: 0.9782\n"
     ]
    }
   ],
   "source": [
    "# training parameters\n",
    "batch_size = 32\n",
    "epochs = 25\n",
    "\n",
    "# create the deep neural net\n",
    "model_DNN = compile_model()\n",
    "\n",
    "# train DNN and store training info in history\n",
    "history = model_DNN.fit(X_train, Y_train,\n",
    "          batch_size=batch_size,\n",
    "          epochs=epochs,\n",
    "          verbose=1,\n",
    "          validation_data=(X_test, Y_test))"
   ]
  },
  {
   "cell_type": "markdown",
   "metadata": {
    "id": "910hLYEn2IA4"
   },
   "source": [
    "#### Step 5: Evaluate the Model Performance on the *Unseen* Test Data\n",
    "\n",
    "Next, we evaluate the model and read of the loss on the test data, and its accuracy using the `evaluate()` method."
   ]
  },
  {
   "cell_type": "code",
   "execution_count": 8,
   "metadata": {
    "colab": {
     "base_uri": "https://localhost:8080/",
     "height": 950
    },
    "id": "al7QK3vr2IA5",
    "outputId": "c975a2ee-59c6-40e9-e463-bf812a5cad76"
   },
   "outputs": [
    {
     "name": "stdout",
     "output_type": "stream",
     "text": [
      "313/313 [==============================] - 1s 2ms/step - loss: 0.0686 - acc: 0.9782\n",
      "\n",
      "Test loss: 0.06864210218191147\n",
      "Test accuracy: 0.9782000184059143\n"
     ]
    },
    {
     "data": {
      "image/png": "[encoded data removed]",
      "text/plain": [
       "<Figure size 640x480 with 1 Axes>"
      ]
     },
     "metadata": {},
     "output_type": "display_data"
    },
    {
     "data": {
      "image/png": "[encoded data removed]",
      "text/plain": [
       "<Figure size 640x480 with 1 Axes>"
      ]
     },
     "metadata": {},
     "output_type": "display_data"
    }
   ],
   "source": [
    "# evaluate model\n",
    "score = model_DNN.evaluate(X_test, Y_test, verbose=1)\n",
    "\n",
    "# print performance\n",
    "print()\n",
    "print('Test loss:', score[0])\n",
    "print('Test accuracy:', score[1])\n",
    "\n",
    "# look into training history\n",
    "\n",
    "# summarize history for accuracy\n",
    "plt.plot(history.history['acc'])\n",
    "plt.plot(history.history['val_acc'])\n",
    "plt.ylabel('model accuracy')\n",
    "plt.xlabel('epoch')\n",
    "plt.legend(['train', 'test'], loc='best')\n",
    "plt.show()\n",
    "\n",
    "# summarize history for loss\n",
    "plt.plot(history.history['loss'])\n",
    "plt.plot(history.history['val_loss'])\n",
    "plt.ylabel('model loss')\n",
    "plt.xlabel('epoch')\n",
    "plt.legend(['train', 'test'], loc='best')\n",
    "plt.show()"
   ]
  },
  {
   "cell_type": "markdown",
   "metadata": {
    "id": "MK43atUi2IA5"
   },
   "source": [
    "Dropout, during training, slices off some artificial neurons, thus, training accuracy suffers.\n",
    "\n",
    "Dropout, during testing, turns itself off and allows all of the ‘weak classifiers’ in the neural network to be used. Thus, testing accuracy improves with respect to training accuracy."
   ]
  },
  {
   "cell_type": "code",
   "execution_count": 9,
   "metadata": {
    "colab": {
     "base_uri": "https://localhost:8080/",
     "height": 165
    },
    "id": "4BXP2KWj2IA5",
    "outputId": "703d0b0e-e009-4c40-b6f0-b75d0ce461f4"
   },
   "outputs": [
    {
     "name": "stdout",
     "output_type": "stream",
     "text": [
      "313/313 [==============================] - 1s 2ms/step\n"
     ]
    },
    {
     "data": {
      "image/png": "[encoded data removed]",
      "text/plain": [
       "<Figure size 1500x1500 with 10 Axes>"
      ]
     },
     "metadata": {},
     "output_type": "display_data"
    }
   ],
   "source": [
    "#X_test = X_test.reshape(X_test.shape[0], img_rows*img_cols)\n",
    "predictions = model_DNN.predict(X_test)\n",
    "\n",
    "X_test = X_test.reshape(X_test.shape[0], img_rows, img_cols,1)\n",
    "\n",
    "plt.figure(figsize=(15, 15))\n",
    "for i in range(10):\n",
    "    ax = plt.subplot(2, 10, i + 1)\n",
    "    plt.imshow(X_test[i, :, :, 0], cmap='gray')\n",
    "    plt.title(\"Digit: {}\\nPredicted:    {}\".format(np.argmax(Y_test[i]), np.argmax(predictions[i])))\n",
    "    plt.axis('off')\n",
    "plt.show()"
   ]
  },
  {
   "cell_type": "markdown",
   "metadata": {
    "id": "skuWPgOU2IA6"
   },
   "source": [
    "### Exercise 12.1\n",
    "\n",
    "<span style=\"color:red\">Change at will and train your DNN by increasing the number of epochs to an adeuqate value</span>. Try to use at least two other optimizers, different from SGD: <span style=\"color:red\">watch to accuracy and loss for training and validation data and comment on the performances</span>."
   ]
  },
  {
   "cell_type": "code",
   "execution_count": 10,
   "metadata": {
    "colab": {
     "base_uri": "https://localhost:8080/"
    },
    "id": "-3sT3lIcpo6m",
    "outputId": "0fe4443e-80e2-4477-db17-fbc259f356ba"
   },
   "outputs": [
    {
     "name": "stdout",
     "output_type": "stream",
     "text": [
      "Model architecture created successfully!\n"
     ]
    }
   ],
   "source": [
    "from keras.models import Sequential\n",
    "from keras.layers import Dense, Dropout\n",
    "\n",
    "def create_DNN():\n",
    "    # instantiate model\n",
    "    model = Sequential()\n",
    "    # add a dense all-to-all relu layer\n",
    "    model.add(Dense(400,input_shape=(img_rows*img_cols,), activation='relu'))\n",
    "    # add a dense all-to-all relu layer\n",
    "    model.add(Dense(100, activation='relu'))\n",
    "    # apply dropout with rate 0.5\n",
    "    model.add(Dropout(0.5))\n",
    "    # soft-max layer\n",
    "    model.add(Dense(num_classes, activation='softmax'))\n",
    "\n",
    "    return model\n",
    "\n",
    "print('Model architecture created successfully!')"
   ]
  },
  {
   "cell_type": "markdown",
   "metadata": {},
   "source": [
    "In order to compare different optimizers a \"opt\" parameter was added to the compile_model function"
   ]
  },
  {
   "cell_type": "code",
   "execution_count": 11,
   "metadata": {
    "colab": {
     "base_uri": "https://localhost:8080/"
    },
    "id": "ePc49FbSp4jY",
    "outputId": "99e891a3-58da-468b-b5fc-74438b1d2246"
   },
   "outputs": [
    {
     "name": "stdout",
     "output_type": "stream",
     "text": [
      "Model compiled successfully and ready to be trained.\n"
     ]
    }
   ],
   "source": [
    "from keras.optimizers import SGD, Adam, RMSprop, Adagrad, Adadelta, Adam, Adamax, Nadam\n",
    "\n",
    "def compile_model(opt):\n",
    "    # create the model\n",
    "    model=create_DNN()\n",
    "    # compile the model\n",
    "    model.compile(loss=keras.losses.categorical_crossentropy,\n",
    "                  optimizer=opt,\n",
    "                  metrics=['acc'])\n",
    "    return model\n",
    "\n",
    "print('Model compiled successfully and ready to be trained.')"
   ]
  },
  {
   "cell_type": "code",
   "execution_count": 46,
   "metadata": {
    "colab": {
     "base_uri": "https://localhost:8080/"
    },
    "id": "WGqn650BqD3W",
    "outputId": "e6942a08-4348-4b0d-f206-37bd789616c0"
   },
   "outputs": [
    {
     "name": "stdout",
     "output_type": "stream",
     "text": [
      "Epoch 1/25\n",
      "1875/1875 [==============================] - 7s 4ms/step - loss: 0.7675 - acc: 0.7747 - val_loss: 0.3143 - val_acc: 0.9128\n",
      "Epoch 2/25\n",
      "1875/1875 [==============================] - 8s 4ms/step - loss: 0.3903 - acc: 0.8894 - val_loss: 0.2423 - val_acc: 0.9313\n",
      "Epoch 3/25\n",
      "1875/1875 [==============================] - 8s 4ms/step - loss: 0.3131 - acc: 0.9125 - val_loss: 0.2020 - val_acc: 0.9401\n",
      "Epoch 4/25\n",
      "1875/1875 [==============================] - 7s 4ms/step - loss: 0.2663 - acc: 0.9251 - val_loss: 0.1738 - val_acc: 0.9496\n",
      "Epoch 5/25\n",
      "1875/1875 [==============================] - 8s 4ms/step - loss: 0.2353 - acc: 0.9331 - val_loss: 0.1576 - val_acc: 0.9526\n",
      "Epoch 6/25\n",
      "1875/1875 [==============================] - 6s 3ms/step - loss: 0.2116 - acc: 0.9402 - val_loss: 0.1442 - val_acc: 0.9566\n",
      "Epoch 7/25\n",
      "1875/1875 [==============================] - 8s 4ms/step - loss: 0.1926 - acc: 0.9458 - val_loss: 0.1312 - val_acc: 0.9590\n",
      "Epoch 8/25\n",
      "1875/1875 [==============================] - 7s 4ms/step - loss: 0.1762 - acc: 0.9502 - val_loss: 0.1238 - val_acc: 0.9617\n",
      "Epoch 9/25\n",
      "1875/1875 [==============================] - 8s 4ms/step - loss: 0.1640 - acc: 0.9530 - val_loss: 0.1144 - val_acc: 0.9645\n",
      "Epoch 10/25\n",
      "1875/1875 [==============================] - 7s 4ms/step - loss: 0.1517 - acc: 0.9571 - val_loss: 0.1080 - val_acc: 0.9659\n",
      "Epoch 11/25\n",
      "1875/1875 [==============================] - 9s 5ms/step - loss: 0.1425 - acc: 0.9598 - val_loss: 0.1059 - val_acc: 0.9670\n",
      "Epoch 12/25\n",
      "1875/1875 [==============================] - 7s 4ms/step - loss: 0.1347 - acc: 0.9618 - val_loss: 0.0985 - val_acc: 0.9689\n",
      "Epoch 13/25\n",
      "1875/1875 [==============================] - 7s 4ms/step - loss: 0.1274 - acc: 0.9637 - val_loss: 0.0939 - val_acc: 0.9706\n",
      "Epoch 14/25\n",
      "1875/1875 [==============================] - 9s 5ms/step - loss: 0.1193 - acc: 0.9662 - val_loss: 0.0894 - val_acc: 0.9719\n",
      "Epoch 15/25\n",
      "1875/1875 [==============================] - 7s 4ms/step - loss: 0.1122 - acc: 0.9683 - val_loss: 0.0864 - val_acc: 0.9739\n",
      "Epoch 16/25\n",
      "1875/1875 [==============================] - 9s 5ms/step - loss: 0.1078 - acc: 0.9695 - val_loss: 0.0868 - val_acc: 0.9720\n",
      "Epoch 17/25\n",
      "1875/1875 [==============================] - 7s 4ms/step - loss: 0.1030 - acc: 0.9707 - val_loss: 0.0834 - val_acc: 0.9734\n",
      "Epoch 18/25\n",
      "1875/1875 [==============================] - 8s 4ms/step - loss: 0.0987 - acc: 0.9723 - val_loss: 0.0803 - val_acc: 0.9744\n",
      "Epoch 19/25\n",
      "1875/1875 [==============================] - 7s 4ms/step - loss: 0.0931 - acc: 0.9734 - val_loss: 0.0785 - val_acc: 0.9755\n",
      "Epoch 20/25\n",
      "1875/1875 [==============================] - 8s 4ms/step - loss: 0.0892 - acc: 0.9736 - val_loss: 0.0765 - val_acc: 0.9768\n",
      "Epoch 21/25\n",
      "1875/1875 [==============================] - 7s 4ms/step - loss: 0.0849 - acc: 0.9755 - val_loss: 0.0750 - val_acc: 0.9768\n",
      "Epoch 22/25\n",
      "1875/1875 [==============================] - 8s 4ms/step - loss: 0.0818 - acc: 0.9771 - val_loss: 0.0732 - val_acc: 0.9766\n",
      "Epoch 23/25\n",
      "1875/1875 [==============================] - 8s 4ms/step - loss: 0.0781 - acc: 0.9781 - val_loss: 0.0730 - val_acc: 0.9774\n",
      "Epoch 24/25\n",
      "1875/1875 [==============================] - 7s 4ms/step - loss: 0.0737 - acc: 0.9787 - val_loss: 0.0723 - val_acc: 0.9778\n",
      "Epoch 25/25\n",
      "1875/1875 [==============================] - 8s 4ms/step - loss: 0.0724 - acc: 0.9790 - val_loss: 0.0697 - val_acc: 0.9774\n",
      "313/313 [==============================] - 1s 4ms/step - loss: 0.0697 - acc: 0.9774\n",
      "Epoch 1/25\n",
      "1875/1875 [==============================] - 8s 4ms/step - loss: 0.2762 - acc: 0.9189 - val_loss: 0.1164 - val_acc: 0.9633\n",
      "Epoch 2/25\n",
      "1875/1875 [==============================] - 8s 4ms/step - loss: 0.1214 - acc: 0.9651 - val_loss: 0.0929 - val_acc: 0.9700\n",
      "Epoch 3/25\n",
      "1875/1875 [==============================] - 7s 3ms/step - loss: 0.0876 - acc: 0.9746 - val_loss: 0.0890 - val_acc: 0.9726\n",
      "Epoch 4/25\n",
      "1875/1875 [==============================] - 8s 4ms/step - loss: 0.0677 - acc: 0.9796 - val_loss: 0.0823 - val_acc: 0.9755\n",
      "Epoch 5/25\n",
      "1875/1875 [==============================] - 7s 4ms/step - loss: 0.0568 - acc: 0.9828 - val_loss: 0.0797 - val_acc: 0.9793\n",
      "Epoch 6/25\n",
      "1875/1875 [==============================] - 8s 4ms/step - loss: 0.0490 - acc: 0.9850 - val_loss: 0.0770 - val_acc: 0.9798\n",
      "Epoch 7/25\n",
      "1875/1875 [==============================] - 7s 4ms/step - loss: 0.0399 - acc: 0.9878 - val_loss: 0.0815 - val_acc: 0.9789\n",
      "Epoch 8/25\n",
      "1875/1875 [==============================] - 8s 4ms/step - loss: 0.0369 - acc: 0.9887 - val_loss: 0.0950 - val_acc: 0.9785\n",
      "Epoch 9/25\n",
      "1875/1875 [==============================] - 8s 4ms/step - loss: 0.0319 - acc: 0.9899 - val_loss: 0.0944 - val_acc: 0.9794\n",
      "Epoch 10/25\n",
      "1875/1875 [==============================] - 7s 4ms/step - loss: 0.0274 - acc: 0.9915 - val_loss: 0.1048 - val_acc: 0.9778\n",
      "Epoch 11/25\n",
      "1875/1875 [==============================] - 8s 4ms/step - loss: 0.0284 - acc: 0.9909 - val_loss: 0.0976 - val_acc: 0.9822\n",
      "Epoch 12/25\n",
      "1875/1875 [==============================] - 8s 4ms/step - loss: 0.0238 - acc: 0.9926 - val_loss: 0.1045 - val_acc: 0.9812\n",
      "Epoch 13/25\n",
      "1875/1875 [==============================] - 8s 4ms/step - loss: 0.0264 - acc: 0.9924 - val_loss: 0.0931 - val_acc: 0.9817\n",
      "Epoch 14/25\n",
      "1875/1875 [==============================] - 7s 4ms/step - loss: 0.0199 - acc: 0.9936 - val_loss: 0.0901 - val_acc: 0.9820\n",
      "Epoch 15/25\n",
      "1875/1875 [==============================] - 8s 4ms/step - loss: 0.0201 - acc: 0.9935 - val_loss: 0.1067 - val_acc: 0.9814\n",
      "Epoch 16/25\n",
      "1875/1875 [==============================] - 7s 4ms/step - loss: 0.0183 - acc: 0.9944 - val_loss: 0.1142 - val_acc: 0.9795\n",
      "Epoch 17/25\n",
      "1875/1875 [==============================] - 8s 4ms/step - loss: 0.0205 - acc: 0.9933 - val_loss: 0.1167 - val_acc: 0.9807\n",
      "Epoch 18/25\n",
      "1875/1875 [==============================] - 6s 3ms/step - loss: 0.0176 - acc: 0.9946 - val_loss: 0.1265 - val_acc: 0.9811\n",
      "Epoch 19/25\n",
      "1875/1875 [==============================] - 8s 4ms/step - loss: 0.0174 - acc: 0.9952 - val_loss: 0.1219 - val_acc: 0.9818\n",
      "Epoch 20/25\n",
      "1875/1875 [==============================] - 7s 4ms/step - loss: 0.0172 - acc: 0.9947 - val_loss: 0.1283 - val_acc: 0.9807\n",
      "Epoch 21/25\n",
      "1875/1875 [==============================] - 8s 4ms/step - loss: 0.0165 - acc: 0.9958 - val_loss: 0.1256 - val_acc: 0.9799\n",
      "Epoch 22/25\n",
      "1875/1875 [==============================] - 7s 4ms/step - loss: 0.0157 - acc: 0.9955 - val_loss: 0.1302 - val_acc: 0.9816\n",
      "Epoch 23/25\n",
      "1875/1875 [==============================] - 8s 4ms/step - loss: 0.0149 - acc: 0.9957 - val_loss: 0.1366 - val_acc: 0.9815\n",
      "Epoch 24/25\n",
      "1875/1875 [==============================] - 8s 4ms/step - loss: 0.0138 - acc: 0.9959 - val_loss: 0.1383 - val_acc: 0.9814\n",
      "Epoch 25/25\n",
      "1875/1875 [==============================] - 7s 4ms/step - loss: 0.0139 - acc: 0.9959 - val_loss: 0.1516 - val_acc: 0.9786\n",
      "313/313 [==============================] - 1s 3ms/step - loss: 0.1516 - acc: 0.9786\n",
      "Epoch 1/25\n",
      "1875/1875 [==============================] - 9s 5ms/step - loss: 0.2771 - acc: 0.9209 - val_loss: 0.1128 - val_acc: 0.9678\n",
      "Epoch 2/25\n",
      "1875/1875 [==============================] - 7s 4ms/step - loss: 0.1391 - acc: 0.9639 - val_loss: 0.1147 - val_acc: 0.9703\n",
      "Epoch 3/25\n",
      "1875/1875 [==============================] - 8s 4ms/step - loss: 0.1208 - acc: 0.9700 - val_loss: 0.1103 - val_acc: 0.9751\n",
      "Epoch 4/25\n",
      "1875/1875 [==============================] - 7s 4ms/step - loss: 0.1192 - acc: 0.9722 - val_loss: 0.1177 - val_acc: 0.9752\n",
      "Epoch 5/25\n",
      "1875/1875 [==============================] - 7s 4ms/step - loss: 0.1198 - acc: 0.9736 - val_loss: 0.1260 - val_acc: 0.9779\n",
      "Epoch 6/25\n",
      "1875/1875 [==============================] - 7s 4ms/step - loss: 0.1149 - acc: 0.9751 - val_loss: 0.1311 - val_acc: 0.9723\n",
      "Epoch 7/25\n",
      "1875/1875 [==============================] - 7s 4ms/step - loss: 0.1184 - acc: 0.9754 - val_loss: 0.1782 - val_acc: 0.9734\n",
      "Epoch 8/25\n",
      "1875/1875 [==============================] - 7s 4ms/step - loss: 0.1166 - acc: 0.9759 - val_loss: 0.1444 - val_acc: 0.9768\n",
      "Epoch 9/25\n",
      "1875/1875 [==============================] - 7s 4ms/step - loss: 0.1141 - acc: 0.9770 - val_loss: 0.1554 - val_acc: 0.9753\n",
      "Epoch 10/25\n",
      "1875/1875 [==============================] - 8s 4ms/step - loss: 0.1110 - acc: 0.9779 - val_loss: 0.1610 - val_acc: 0.9750\n",
      "Epoch 11/25\n",
      "1875/1875 [==============================] - 7s 4ms/step - loss: 0.1052 - acc: 0.9794 - val_loss: 0.1738 - val_acc: 0.9734\n",
      "Epoch 12/25\n",
      "1875/1875 [==============================] - 8s 4ms/step - loss: 0.1013 - acc: 0.9800 - val_loss: 0.1932 - val_acc: 0.9741\n",
      "Epoch 13/25\n",
      "1875/1875 [==============================] - 6s 3ms/step - loss: 0.1038 - acc: 0.9799 - val_loss: 0.2000 - val_acc: 0.9754\n",
      "Epoch 14/25\n",
      "1875/1875 [==============================] - 8s 4ms/step - loss: 0.0992 - acc: 0.9811 - val_loss: 0.1622 - val_acc: 0.9767\n",
      "Epoch 15/25\n",
      "1875/1875 [==============================] - 7s 4ms/step - loss: 0.1016 - acc: 0.9811 - val_loss: 0.1599 - val_acc: 0.9801\n",
      "Epoch 16/25\n",
      "1875/1875 [==============================] - 8s 4ms/step - loss: 0.1014 - acc: 0.9824 - val_loss: 0.1765 - val_acc: 0.9787\n",
      "Epoch 17/25\n",
      "1875/1875 [==============================] - 7s 4ms/step - loss: 0.1005 - acc: 0.9831 - val_loss: 0.1603 - val_acc: 0.9775\n",
      "Epoch 18/25\n",
      "1875/1875 [==============================] - 8s 4ms/step - loss: 0.1056 - acc: 0.9819 - val_loss: 0.1904 - val_acc: 0.9799\n",
      "Epoch 19/25\n",
      "1875/1875 [==============================] - 7s 4ms/step - loss: 0.1014 - acc: 0.9832 - val_loss: 0.2581 - val_acc: 0.9750\n",
      "Epoch 20/25\n",
      "1875/1875 [==============================] - 8s 4ms/step - loss: 0.0939 - acc: 0.9834 - val_loss: 0.1973 - val_acc: 0.9797\n",
      "Epoch 21/25\n",
      "1875/1875 [==============================] - 7s 4ms/step - loss: 0.0898 - acc: 0.9844 - val_loss: 0.2045 - val_acc: 0.9778\n",
      "Epoch 22/25\n",
      "1875/1875 [==============================] - 8s 4ms/step - loss: 0.0911 - acc: 0.9842 - val_loss: 0.2030 - val_acc: 0.9776\n",
      "Epoch 23/25\n",
      "1875/1875 [==============================] - 8s 4ms/step - loss: 0.0923 - acc: 0.9833 - val_loss: 0.2336 - val_acc: 0.9799\n",
      "Epoch 24/25\n",
      "1875/1875 [==============================] - 7s 4ms/step - loss: 0.0860 - acc: 0.9850 - val_loss: 0.2429 - val_acc: 0.9812\n",
      "Epoch 25/25\n",
      "1875/1875 [==============================] - 9s 5ms/step - loss: 0.0850 - acc: 0.9858 - val_loss: 0.2203 - val_acc: 0.9801\n",
      "313/313 [==============================] - 1s 3ms/step - loss: 0.2203 - acc: 0.9801\n",
      "Epoch 1/25\n",
      "1875/1875 [==============================] - 10s 5ms/step - loss: 1.2956 - acc: 0.6145 - val_loss: 0.6360 - val_acc: 0.8587\n",
      "Epoch 2/25\n",
      "1875/1875 [==============================] - 7s 4ms/step - loss: 0.7110 - acc: 0.7964 - val_loss: 0.4539 - val_acc: 0.8895\n",
      "Epoch 3/25\n",
      "1875/1875 [==============================] - 8s 4ms/step - loss: 0.5833 - acc: 0.8331 - val_loss: 0.3845 - val_acc: 0.9033\n",
      "Epoch 4/25\n",
      "1875/1875 [==============================] - 7s 4ms/step - loss: 0.5188 - acc: 0.8529 - val_loss: 0.3478 - val_acc: 0.9111\n",
      "Epoch 5/25\n",
      "1875/1875 [==============================] - 8s 5ms/step - loss: 0.4781 - acc: 0.8659 - val_loss: 0.3244 - val_acc: 0.9153\n",
      "Epoch 6/25\n",
      "1875/1875 [==============================] - 7s 4ms/step - loss: 0.4495 - acc: 0.8730 - val_loss: 0.3058 - val_acc: 0.9185\n",
      "Epoch 7/25\n",
      "1875/1875 [==============================] - 7s 4ms/step - loss: 0.4248 - acc: 0.8800 - val_loss: 0.2905 - val_acc: 0.9217\n",
      "Epoch 8/25\n",
      "1875/1875 [==============================] - 9s 5ms/step - loss: 0.4049 - acc: 0.8882 - val_loss: 0.2785 - val_acc: 0.9247\n",
      "Epoch 9/25\n",
      "1875/1875 [==============================] - 7s 4ms/step - loss: 0.3868 - acc: 0.8920 - val_loss: 0.2675 - val_acc: 0.9272\n",
      "Epoch 10/25\n",
      "1875/1875 [==============================] - 9s 5ms/step - loss: 0.3757 - acc: 0.8946 - val_loss: 0.2597 - val_acc: 0.9287\n",
      "Epoch 11/25\n",
      "1875/1875 [==============================] - 7s 4ms/step - loss: 0.3641 - acc: 0.8984 - val_loss: 0.2514 - val_acc: 0.9316\n",
      "Epoch 12/25\n",
      "1875/1875 [==============================] - 8s 4ms/step - loss: 0.3537 - acc: 0.9021 - val_loss: 0.2446 - val_acc: 0.9328\n",
      "Epoch 13/25\n",
      "1875/1875 [==============================] - 6s 3ms/step - loss: 0.3438 - acc: 0.9044 - val_loss: 0.2381 - val_acc: 0.9336\n",
      "Epoch 14/25\n",
      "1875/1875 [==============================] - 8s 4ms/step - loss: 0.3333 - acc: 0.9064 - val_loss: 0.2325 - val_acc: 0.9345\n",
      "Epoch 15/25\n",
      "1875/1875 [==============================] - 7s 4ms/step - loss: 0.3257 - acc: 0.9094 - val_loss: 0.2273 - val_acc: 0.9367\n",
      "Epoch 16/25\n",
      "1875/1875 [==============================] - 8s 4ms/step - loss: 0.3218 - acc: 0.9095 - val_loss: 0.2225 - val_acc: 0.9379\n",
      "Epoch 17/25\n",
      "1875/1875 [==============================] - 7s 4ms/step - loss: 0.3097 - acc: 0.9131 - val_loss: 0.2178 - val_acc: 0.9383\n",
      "Epoch 18/25\n",
      "1875/1875 [==============================] - 8s 4ms/step - loss: 0.3080 - acc: 0.9143 - val_loss: 0.2139 - val_acc: 0.9401\n",
      "Epoch 19/25\n",
      "1875/1875 [==============================] - 8s 4ms/step - loss: 0.3019 - acc: 0.9173 - val_loss: 0.2102 - val_acc: 0.9410\n",
      "Epoch 20/25\n",
      "1875/1875 [==============================] - 7s 4ms/step - loss: 0.2960 - acc: 0.9183 - val_loss: 0.2064 - val_acc: 0.9412\n",
      "Epoch 21/25\n",
      "1875/1875 [==============================] - 8s 4ms/step - loss: 0.2905 - acc: 0.9185 - val_loss: 0.2032 - val_acc: 0.9424\n",
      "Epoch 22/25\n",
      "1875/1875 [==============================] - 7s 4ms/step - loss: 0.2866 - acc: 0.9204 - val_loss: 0.2001 - val_acc: 0.9435\n",
      "Epoch 23/25\n",
      "1875/1875 [==============================] - 8s 4ms/step - loss: 0.2796 - acc: 0.9223 - val_loss: 0.1966 - val_acc: 0.9443\n",
      "Epoch 24/25\n",
      "1875/1875 [==============================] - 7s 4ms/step - loss: 0.2755 - acc: 0.9244 - val_loss: 0.1938 - val_acc: 0.9449\n",
      "Epoch 25/25\n",
      "1875/1875 [==============================] - 8s 4ms/step - loss: 0.2726 - acc: 0.9242 - val_loss: 0.1910 - val_acc: 0.9455\n",
      "313/313 [==============================] - 1s 3ms/step - loss: 0.1910 - acc: 0.9455\n",
      "Epoch 1/25\n",
      "1875/1875 [==============================] - 8s 4ms/step - loss: 2.2703 - acc: 0.1719 - val_loss: 2.1492 - val_acc: 0.3490\n",
      "Epoch 2/25\n",
      "1875/1875 [==============================] - 8s 4ms/step - loss: 2.1094 - acc: 0.2890 - val_loss: 1.9917 - val_acc: 0.5372\n",
      "Epoch 3/25\n",
      "1875/1875 [==============================] - 7s 4ms/step - loss: 1.9664 - acc: 0.3998 - val_loss: 1.8374 - val_acc: 0.6400\n",
      "Epoch 4/25\n",
      "1875/1875 [==============================] - 7s 4ms/step - loss: 1.8273 - acc: 0.4747 - val_loss: 1.6866 - val_acc: 0.6991\n",
      "Epoch 5/25\n",
      "1875/1875 [==============================] - 8s 4ms/step - loss: 1.6979 - acc: 0.5294 - val_loss: 1.5429 - val_acc: 0.7355\n",
      "Epoch 6/25\n",
      "1875/1875 [==============================] - 7s 4ms/step - loss: 1.5792 - acc: 0.5721 - val_loss: 1.4100 - val_acc: 0.7624\n",
      "Epoch 7/25\n",
      "1875/1875 [==============================] - 8s 4ms/step - loss: 1.4735 - acc: 0.6010 - val_loss: 1.2897 - val_acc: 0.7825\n",
      "Epoch 8/25\n",
      "1875/1875 [==============================] - 7s 4ms/step - loss: 1.3750 - acc: 0.6319 - val_loss: 1.1831 - val_acc: 0.7992\n",
      "Epoch 9/25\n",
      "1875/1875 [==============================] - 8s 4ms/step - loss: 1.2923 - acc: 0.6497 - val_loss: 1.0908 - val_acc: 0.8125\n",
      "Epoch 10/25\n",
      "1875/1875 [==============================] - 7s 4ms/step - loss: 1.2152 - acc: 0.6693 - val_loss: 1.0107 - val_acc: 0.8235\n",
      "Epoch 11/25\n",
      "1875/1875 [==============================] - 8s 4ms/step - loss: 1.1511 - acc: 0.6859 - val_loss: 0.9415 - val_acc: 0.8319\n",
      "Epoch 12/25\n",
      "1875/1875 [==============================] - 7s 4ms/step - loss: 1.0932 - acc: 0.7003 - val_loss: 0.8811 - val_acc: 0.8408\n",
      "Epoch 13/25\n",
      "1875/1875 [==============================] - 8s 4ms/step - loss: 1.0447 - acc: 0.7138 - val_loss: 0.8291 - val_acc: 0.8489\n",
      "Epoch 14/25\n",
      "1875/1875 [==============================] - 7s 4ms/step - loss: 1.0012 - acc: 0.7235 - val_loss: 0.7837 - val_acc: 0.8548\n",
      "Epoch 15/25\n",
      "1875/1875 [==============================] - 8s 4ms/step - loss: 0.9582 - acc: 0.7329 - val_loss: 0.7435 - val_acc: 0.8598\n",
      "Epoch 16/25\n",
      "1875/1875 [==============================] - 7s 4ms/step - loss: 0.9280 - acc: 0.7413 - val_loss: 0.7090 - val_acc: 0.8632\n",
      "Epoch 17/25\n",
      "1875/1875 [==============================] - 9s 5ms/step - loss: 0.8946 - acc: 0.7488 - val_loss: 0.6779 - val_acc: 0.8665\n",
      "Epoch 18/25\n",
      "1875/1875 [==============================] - 7s 4ms/step - loss: 0.8668 - acc: 0.7571 - val_loss: 0.6507 - val_acc: 0.8688\n",
      "Epoch 19/25\n",
      "1875/1875 [==============================] - 8s 4ms/step - loss: 0.8434 - acc: 0.7638 - val_loss: 0.6265 - val_acc: 0.8716\n",
      "Epoch 20/25\n",
      "1875/1875 [==============================] - 9s 5ms/step - loss: 0.8138 - acc: 0.7730 - val_loss: 0.6040 - val_acc: 0.8759\n",
      "Epoch 21/25\n",
      "1875/1875 [==============================] - 7s 4ms/step - loss: 0.7919 - acc: 0.7765 - val_loss: 0.5840 - val_acc: 0.8767\n",
      "Epoch 22/25\n",
      "1875/1875 [==============================] - 8s 4ms/step - loss: 0.7706 - acc: 0.7828 - val_loss: 0.5655 - val_acc: 0.8791\n",
      "Epoch 23/25\n",
      "1875/1875 [==============================] - 7s 4ms/step - loss: 0.7558 - acc: 0.7857 - val_loss: 0.5492 - val_acc: 0.8827\n",
      "Epoch 24/25\n",
      "1875/1875 [==============================] - 8s 4ms/step - loss: 0.7402 - acc: 0.7910 - val_loss: 0.5342 - val_acc: 0.8848\n",
      "Epoch 25/25\n",
      "1875/1875 [==============================] - 7s 4ms/step - loss: 0.7195 - acc: 0.7980 - val_loss: 0.5200 - val_acc: 0.8872\n",
      "313/313 [==============================] - 1s 4ms/step - loss: 0.5200 - acc: 0.8872\n",
      "Epoch 1/25\n",
      "1875/1875 [==============================] - 8s 4ms/step - loss: 0.2910 - acc: 0.9152 - val_loss: 0.1108 - val_acc: 0.9656\n",
      "Epoch 2/25\n",
      "1875/1875 [==============================] - 8s 4ms/step - loss: 0.1232 - acc: 0.9645 - val_loss: 0.0874 - val_acc: 0.9738\n",
      "Epoch 3/25\n",
      "1875/1875 [==============================] - 7s 4ms/step - loss: 0.0880 - acc: 0.9739 - val_loss: 0.0785 - val_acc: 0.9757\n",
      "Epoch 4/25\n",
      "1875/1875 [==============================] - 9s 5ms/step - loss: 0.0704 - acc: 0.9789 - val_loss: 0.0719 - val_acc: 0.9786\n",
      "Epoch 5/25\n",
      "1875/1875 [==============================] - 7s 3ms/step - loss: 0.0571 - acc: 0.9835 - val_loss: 0.0742 - val_acc: 0.9795\n",
      "Epoch 6/25\n",
      "1875/1875 [==============================] - 8s 4ms/step - loss: 0.0467 - acc: 0.9852 - val_loss: 0.0735 - val_acc: 0.9785\n",
      "Epoch 7/25\n",
      "1875/1875 [==============================] - 7s 4ms/step - loss: 0.0419 - acc: 0.9873 - val_loss: 0.0757 - val_acc: 0.9799\n",
      "Epoch 8/25\n",
      "1875/1875 [==============================] - 8s 4ms/step - loss: 0.0361 - acc: 0.9885 - val_loss: 0.0809 - val_acc: 0.9801\n",
      "Epoch 9/25\n",
      "1875/1875 [==============================] - 7s 4ms/step - loss: 0.0342 - acc: 0.9893 - val_loss: 0.0873 - val_acc: 0.9791\n",
      "Epoch 10/25\n",
      "1875/1875 [==============================] - 8s 4ms/step - loss: 0.0302 - acc: 0.9906 - val_loss: 0.0986 - val_acc: 0.9800\n",
      "Epoch 11/25\n",
      "1875/1875 [==============================] - 8s 4ms/step - loss: 0.0276 - acc: 0.9919 - val_loss: 0.0881 - val_acc: 0.9819\n",
      "Epoch 12/25\n",
      "1875/1875 [==============================] - 8s 4ms/step - loss: 0.0232 - acc: 0.9929 - val_loss: 0.0957 - val_acc: 0.9784\n",
      "Epoch 13/25\n",
      "1875/1875 [==============================] - 8s 4ms/step - loss: 0.0236 - acc: 0.9928 - val_loss: 0.1008 - val_acc: 0.9815\n",
      "Epoch 14/25\n",
      "1875/1875 [==============================] - 7s 3ms/step - loss: 0.0223 - acc: 0.9928 - val_loss: 0.0929 - val_acc: 0.9811\n",
      "Epoch 15/25\n",
      "1875/1875 [==============================] - 8s 4ms/step - loss: 0.0198 - acc: 0.9934 - val_loss: 0.0945 - val_acc: 0.9826\n",
      "Epoch 16/25\n",
      "1875/1875 [==============================] - 7s 4ms/step - loss: 0.0201 - acc: 0.9937 - val_loss: 0.1052 - val_acc: 0.9797\n",
      "Epoch 17/25\n",
      "1875/1875 [==============================] - 8s 4ms/step - loss: 0.0196 - acc: 0.9942 - val_loss: 0.1025 - val_acc: 0.9822\n",
      "Epoch 18/25\n",
      "1875/1875 [==============================] - 7s 4ms/step - loss: 0.0168 - acc: 0.9948 - val_loss: 0.1142 - val_acc: 0.9807\n",
      "Epoch 19/25\n",
      "1875/1875 [==============================] - 8s 4ms/step - loss: 0.0180 - acc: 0.9945 - val_loss: 0.1134 - val_acc: 0.9826\n",
      "Epoch 20/25\n",
      "1875/1875 [==============================] - 7s 4ms/step - loss: 0.0171 - acc: 0.9948 - val_loss: 0.1116 - val_acc: 0.9840\n",
      "Epoch 21/25\n",
      "1875/1875 [==============================] - 8s 4ms/step - loss: 0.0158 - acc: 0.9952 - val_loss: 0.1091 - val_acc: 0.9833\n",
      "Epoch 22/25\n",
      "1875/1875 [==============================] - 7s 4ms/step - loss: 0.0155 - acc: 0.9955 - val_loss: 0.1081 - val_acc: 0.9822\n",
      "Epoch 23/25\n",
      "1875/1875 [==============================] - 8s 4ms/step - loss: 0.0169 - acc: 0.9951 - val_loss: 0.1321 - val_acc: 0.9807\n",
      "Epoch 24/25\n",
      "1875/1875 [==============================] - 7s 4ms/step - loss: 0.0151 - acc: 0.9959 - val_loss: 0.1176 - val_acc: 0.9831\n",
      "Epoch 25/25\n",
      "1875/1875 [==============================] - 8s 4ms/step - loss: 0.0130 - acc: 0.9963 - val_loss: 0.1216 - val_acc: 0.9823\n",
      "313/313 [==============================] - 1s 3ms/step - loss: 0.1216 - acc: 0.9823\n",
      "Epoch 1/25\n",
      "1875/1875 [==============================] - 10s 5ms/step - loss: 0.4067 - acc: 0.8820 - val_loss: 0.1636 - val_acc: 0.9516\n",
      "Epoch 2/25\n",
      "1875/1875 [==============================] - 8s 4ms/step - loss: 0.1965 - acc: 0.9444 - val_loss: 0.1170 - val_acc: 0.9641\n",
      "Epoch 3/25\n",
      "1875/1875 [==============================] - 8s 4ms/step - loss: 0.1450 - acc: 0.9592 - val_loss: 0.0993 - val_acc: 0.9691\n",
      "Epoch 4/25\n",
      "1875/1875 [==============================] - 8s 4ms/step - loss: 0.1152 - acc: 0.9673 - val_loss: 0.0831 - val_acc: 0.9741\n",
      "Epoch 5/25\n",
      "1875/1875 [==============================] - 7s 4ms/step - loss: 0.0949 - acc: 0.9727 - val_loss: 0.0749 - val_acc: 0.9760\n",
      "Epoch 6/25\n",
      "1875/1875 [==============================] - 8s 4ms/step - loss: 0.0807 - acc: 0.9766 - val_loss: 0.0697 - val_acc: 0.9765\n",
      "Epoch 7/25\n",
      "1875/1875 [==============================] - 7s 4ms/step - loss: 0.0685 - acc: 0.9806 - val_loss: 0.0659 - val_acc: 0.9791\n",
      "Epoch 8/25\n",
      "1875/1875 [==============================] - 8s 4ms/step - loss: 0.0620 - acc: 0.9825 - val_loss: 0.0643 - val_acc: 0.9807\n",
      "Epoch 9/25\n",
      "1875/1875 [==============================] - 7s 3ms/step - loss: 0.0535 - acc: 0.9843 - val_loss: 0.0584 - val_acc: 0.9817\n",
      "Epoch 10/25\n",
      "1875/1875 [==============================] - 8s 4ms/step - loss: 0.0470 - acc: 0.9862 - val_loss: 0.0586 - val_acc: 0.9816\n",
      "Epoch 11/25\n",
      "1875/1875 [==============================] - 7s 4ms/step - loss: 0.0426 - acc: 0.9877 - val_loss: 0.0617 - val_acc: 0.9804\n",
      "Epoch 12/25\n",
      "1875/1875 [==============================] - 8s 4ms/step - loss: 0.0370 - acc: 0.9894 - val_loss: 0.0573 - val_acc: 0.9835\n",
      "Epoch 13/25\n",
      "1875/1875 [==============================] - 8s 4ms/step - loss: 0.0332 - acc: 0.9903 - val_loss: 0.0546 - val_acc: 0.9828\n",
      "Epoch 14/25\n",
      "1875/1875 [==============================] - 7s 4ms/step - loss: 0.0298 - acc: 0.9912 - val_loss: 0.0522 - val_acc: 0.9841\n",
      "Epoch 15/25\n",
      "1875/1875 [==============================] - 8s 4ms/step - loss: 0.0257 - acc: 0.9926 - val_loss: 0.0555 - val_acc: 0.9822\n",
      "Epoch 16/25\n",
      "1875/1875 [==============================] - 7s 4ms/step - loss: 0.0250 - acc: 0.9926 - val_loss: 0.0556 - val_acc: 0.9828\n",
      "Epoch 17/25\n",
      "1875/1875 [==============================] - 8s 4ms/step - loss: 0.0218 - acc: 0.9937 - val_loss: 0.0549 - val_acc: 0.9839\n",
      "Epoch 18/25\n",
      "1875/1875 [==============================] - 7s 4ms/step - loss: 0.0201 - acc: 0.9942 - val_loss: 0.0542 - val_acc: 0.9842\n",
      "Epoch 19/25\n",
      "1875/1875 [==============================] - 8s 4ms/step - loss: 0.0179 - acc: 0.9950 - val_loss: 0.0562 - val_acc: 0.9838\n",
      "Epoch 20/25\n",
      "1875/1875 [==============================] - 7s 3ms/step - loss: 0.0163 - acc: 0.9954 - val_loss: 0.0584 - val_acc: 0.9828\n",
      "Epoch 21/25\n",
      "1875/1875 [==============================] - 8s 4ms/step - loss: 0.0160 - acc: 0.9954 - val_loss: 0.0561 - val_acc: 0.9841\n",
      "Epoch 22/25\n",
      "1875/1875 [==============================] - 7s 4ms/step - loss: 0.0136 - acc: 0.9964 - val_loss: 0.0565 - val_acc: 0.9840\n",
      "Epoch 23/25\n",
      "1875/1875 [==============================] - 8s 4ms/step - loss: 0.0128 - acc: 0.9965 - val_loss: 0.0586 - val_acc: 0.9852\n",
      "Epoch 24/25\n",
      "1875/1875 [==============================] - 7s 4ms/step - loss: 0.0118 - acc: 0.9969 - val_loss: 0.0587 - val_acc: 0.9838\n",
      "Epoch 25/25\n",
      "1875/1875 [==============================] - 8s 4ms/step - loss: 0.0107 - acc: 0.9970 - val_loss: 0.0580 - val_acc: 0.9847\n",
      "313/313 [==============================] - 1s 3ms/step - loss: 0.0580 - acc: 0.9847\n",
      "Epoch 1/25\n",
      "1875/1875 [==============================] - 10s 5ms/step - loss: 0.2859 - acc: 0.9183 - val_loss: 0.1116 - val_acc: 0.9664\n",
      "Epoch 2/25\n",
      "1875/1875 [==============================] - 8s 4ms/step - loss: 0.1244 - acc: 0.9648 - val_loss: 0.0906 - val_acc: 0.9722\n",
      "Epoch 3/25\n",
      "1875/1875 [==============================] - 8s 4ms/step - loss: 0.0887 - acc: 0.9740 - val_loss: 0.0867 - val_acc: 0.9744\n",
      "Epoch 4/25\n",
      "1875/1875 [==============================] - 9s 5ms/step - loss: 0.0688 - acc: 0.9788 - val_loss: 0.0856 - val_acc: 0.9758\n",
      "Epoch 5/25\n",
      "1875/1875 [==============================] - 7s 4ms/step - loss: 0.0573 - acc: 0.9826 - val_loss: 0.0785 - val_acc: 0.9779\n",
      "Epoch 6/25\n",
      "1875/1875 [==============================] - 9s 5ms/step - loss: 0.0479 - acc: 0.9853 - val_loss: 0.0798 - val_acc: 0.9789\n",
      "Epoch 7/25\n",
      "1875/1875 [==============================] - 8s 4ms/step - loss: 0.0403 - acc: 0.9874 - val_loss: 0.0807 - val_acc: 0.9790\n",
      "Epoch 8/25\n",
      "1875/1875 [==============================] - 9s 5ms/step - loss: 0.0367 - acc: 0.9887 - val_loss: 0.0854 - val_acc: 0.9796\n",
      "Epoch 9/25\n",
      "1875/1875 [==============================] - 9s 5ms/step - loss: 0.0330 - acc: 0.9893 - val_loss: 0.0878 - val_acc: 0.9787\n",
      "Epoch 10/25\n",
      "1875/1875 [==============================] - 8s 4ms/step - loss: 0.0299 - acc: 0.9905 - val_loss: 0.0753 - val_acc: 0.9816\n",
      "Epoch 11/25\n",
      "1875/1875 [==============================] - 9s 5ms/step - loss: 0.0282 - acc: 0.9912 - val_loss: 0.0896 - val_acc: 0.9800\n",
      "Epoch 12/25\n",
      "1875/1875 [==============================] - 8s 4ms/step - loss: 0.0271 - acc: 0.9918 - val_loss: 0.0956 - val_acc: 0.9806\n",
      "Epoch 13/25\n",
      "1875/1875 [==============================] - 9s 5ms/step - loss: 0.0226 - acc: 0.9932 - val_loss: 0.0982 - val_acc: 0.9809\n",
      "Epoch 14/25\n",
      "1875/1875 [==============================] - 8s 4ms/step - loss: 0.0219 - acc: 0.9930 - val_loss: 0.0923 - val_acc: 0.9819\n",
      "Epoch 15/25\n",
      "1875/1875 [==============================] - 7s 4ms/step - loss: 0.0203 - acc: 0.9942 - val_loss: 0.1055 - val_acc: 0.9815\n",
      "Epoch 16/25\n",
      "1875/1875 [==============================] - 9s 5ms/step - loss: 0.0215 - acc: 0.9935 - val_loss: 0.1049 - val_acc: 0.9794\n",
      "Epoch 17/25\n",
      "1875/1875 [==============================] - 8s 4ms/step - loss: 0.0187 - acc: 0.9943 - val_loss: 0.1154 - val_acc: 0.9812\n",
      "Epoch 18/25\n",
      "1875/1875 [==============================] - 8s 4ms/step - loss: 0.0190 - acc: 0.9947 - val_loss: 0.0940 - val_acc: 0.9819\n",
      "Epoch 19/25\n",
      "1875/1875 [==============================] - 9s 5ms/step - loss: 0.0146 - acc: 0.9954 - val_loss: 0.1026 - val_acc: 0.9834\n",
      "Epoch 20/25\n",
      "1875/1875 [==============================] - 7s 4ms/step - loss: 0.0181 - acc: 0.9948 - val_loss: 0.1013 - val_acc: 0.9832\n",
      "Epoch 21/25\n",
      "1875/1875 [==============================] - 9s 5ms/step - loss: 0.0157 - acc: 0.9955 - val_loss: 0.1187 - val_acc: 0.9830\n",
      "Epoch 22/25\n",
      "1875/1875 [==============================] - 8s 4ms/step - loss: 0.0133 - acc: 0.9959 - val_loss: 0.1250 - val_acc: 0.9816\n",
      "Epoch 23/25\n",
      "1875/1875 [==============================] - 9s 5ms/step - loss: 0.0192 - acc: 0.9949 - val_loss: 0.1172 - val_acc: 0.9827\n",
      "Epoch 24/25\n",
      "1875/1875 [==============================] - 9s 5ms/step - loss: 0.0144 - acc: 0.9957 - val_loss: 0.1424 - val_acc: 0.9790\n",
      "Epoch 25/25\n",
      "1875/1875 [==============================] - 7s 4ms/step - loss: 0.0120 - acc: 0.9964 - val_loss: 0.1356 - val_acc: 0.9821\n",
      "313/313 [==============================] - 1s 3ms/step - loss: 0.1356 - acc: 0.9821\n"
     ]
    }
   ],
   "source": [
    "# training parameters\n",
    "batch_size = 32\n",
    "epochs = 25\n",
    "\n",
    "opts = [SGD(), Adam(), RMSprop(), Adagrad(), Adadelta(), Adam(), Adamax(), Nadam()]\n",
    "\n",
    "loss = []\n",
    "acc = []\n",
    "\n",
    "for opt in opts:\n",
    "  keras.backend.clear_session()\n",
    "  # create the deep neural net\n",
    "  model_DNN = compile_model(opt)\n",
    "\n",
    "  # train DNN and store training info in history\n",
    "  history = model_DNN.fit(X_train, Y_train,\n",
    "            batch_size=batch_size,\n",
    "            epochs=epochs,\n",
    "            verbose=1,\n",
    "            validation_data=(X_test, Y_test))\n",
    "  score = model_DNN.evaluate(X_test, Y_test, verbose=1)\n",
    "  loss.append(score[0])\n",
    "  acc.append(score[1])\n",
    "\n"
   ]
  },
  {
   "cell_type": "code",
   "execution_count": 55,
   "metadata": {
    "colab": {
     "base_uri": "https://localhost:8080/",
     "height": 736
    },
    "id": "Mdgl-yzs0QSY",
    "outputId": "7ea7f997-d68c-4a6b-f4f8-0300dbcc4395"
   },
   "outputs": [
    {
     "data": {
      "image/png": "[encoded data removed]",
      "text/plain": [
       "<Figure size 800x800 with 1 Axes>"
      ]
     },
     "metadata": {},
     "output_type": "display_data"
    }
   ],
   "source": [
    "optimizers = [\"SGD\", \"Adam\", \"RMSprop\", \"Adagrad\", \"Adadelta\", \"Adam\", \"Adamax\", \"Nadam\"]\n",
    "\n",
    "\n",
    "plt.figure(figsize = (8, 8))\n",
    "# Plot the loss values\n",
    "plt.plot(loss)\n",
    "\n",
    "# Set x-axis ticks and labels\n",
    "plt.xticks(np.arange(len(optimizers)), optimizers, rotation=45, ha=\"right\")\n",
    "\n",
    "# Set labels for the axes\n",
    "plt.xlabel('Optimizer')\n",
    "plt.ylabel('Loss')\n",
    "plt.yticks(loss, rotation=45, fontsize = 8)\n",
    "plt.grid()\n",
    "# Show the plot\n",
    "plt.show()"
   ]
  },
  {
   "cell_type": "markdown",
   "metadata": {
    "id": "WGPeaOMJ2IA6"
   },
   "source": [
    "#### Creating Convolutional Neural Nets with Keras\n",
    "\n",
    "We have so far considered each MNIST data sample as a $(28\\times 28,)$-long 1d vector. On the other hand, we do know that in every one of the hand-written digits there are *local* spatial correlations between the pixels, but also *translational invariance*, which we would like to take advantage of to improve the accuracy of our classification model. To this end, we first need to reshape the training and test input data as follows"
   ]
  },
  {
   "cell_type": "code",
   "execution_count": 6,
   "metadata": {
    "colab": {
     "base_uri": "https://localhost:8080/"
    },
    "id": "igOz_k4m2IA6",
    "outputId": "d85eafc5-569f-4933-e674-133aa393abcc"
   },
   "outputs": [
    {
     "name": "stdout",
     "output_type": "stream",
     "text": [
      "X_train shape: (60000, 28, 28, 1)\n",
      "Y_train shape: (60000, 10)\n",
      "\n",
      "60000 train samples\n",
      "10000 test samples\n"
     ]
    }
   ],
   "source": [
    "# you will need the following for Convolutional Neural Networks\n",
    "from keras.layers import Flatten, Conv2D, MaxPooling2D, UpSampling2D\n",
    "\n",
    "# reshape data, depending on Keras backend\n",
    "if keras.backend.image_data_format() == 'channels_first':\n",
    "    X_train = X_train.reshape(X_train.shape[0], 1, img_rows, img_cols)\n",
    "    X_test = X_test.reshape(X_test.shape[0], 1, img_rows, img_cols)\n",
    "    input_shape = (1, img_rows, img_cols)\n",
    "else:\n",
    "    X_train = X_train.reshape(X_train.shape[0], img_rows, img_cols, 1)\n",
    "    X_test = X_test.reshape(X_test.shape[0], img_rows, img_cols, 1)\n",
    "    input_shape = (img_rows, img_cols, 1)\n",
    "\n",
    "print('X_train shape:', X_train.shape)\n",
    "print('Y_train shape:', Y_train.shape)\n",
    "print()\n",
    "print(X_train.shape[0], 'train samples')\n",
    "print(X_test.shape[0], 'test samples')"
   ]
  },
  {
   "cell_type": "markdown",
   "metadata": {
    "id": "eFieHb9D2IA7"
   },
   "source": [
    "One can ask the question of whether a neural net can learn to recognize such local patterns. This can be achieved by using convolutional layers."
   ]
  },
  {
   "cell_type": "markdown",
   "metadata": {
    "id": "Nu9N6hTf2IA7"
   },
   "source": [
    "### Exercise 12.2\n",
    "\n",
    "Change the architecture of your DNN using convolutional layers. Use `Conv2D`, `MaxPooling2D`, `Dropout`, but also do not forget `Flatten`, a standard `Dense` layer and `soft-max` in the end. I have merged step 2 and 3 in the following definition of `create_CNN()` that **<span style=\"color:red\">you should complete</span>**:"
   ]
  },
  {
   "cell_type": "code",
   "execution_count": 12,
   "metadata": {
    "id": "5dveTSzw2IA7"
   },
   "outputs": [],
   "source": [
    "#THIS IS INCOMPLETE ... COMPLETE BEFORE EXECUTING IT\n",
    "keras.backend.clear_session()\n",
    "def create_CNN():\n",
    "    # instantiate model\n",
    "    model = Sequential()\n",
    "    # add first convolutional layer with 10 filters (dimensionality of output space)\n",
    "    model.add(Conv2D(10, kernel_size=(5, 5),\n",
    "                     activation='relu',\n",
    "                     input_shape=input_shape))\n",
    "    #\n",
    "    # ADD HERE SOME OTHER LAYERS AT YOUR WILL, FOR EXAMPLE SOME: Dropout, 2D pooling, 2D convolutional etc. ...\n",
    "    # remember to move towards a standard flat layer in the final part of your DNN,\n",
    "    # and that we need a soft-max layer with num_classes=10 possible outputs\n",
    "    #\n",
    "    model.add(MaxPooling2D((2, 2)))\n",
    "    model.add(Conv2D(12, kernel_size=(2, 2),\n",
    "                     activation='relu'))\n",
    "    model.add(MaxPooling2D((2, 2), strides = 2))\n",
    "    model.add(Dropout(.3))\n",
    "    model.add(Flatten())\n",
    "    model.add(Dense(200, activation=\"relu\"))\n",
    "    model.add(Dense(num_classes, activation='softmax'))\n",
    "\n",
    "\n",
    "    # compile the model\n",
    "    model.compile(loss=keras.losses.categorical_crossentropy,\n",
    "                  optimizer='Adamax',\n",
    "                  metrics=['acc'])\n",
    "    return model"
   ]
  },
  {
   "cell_type": "markdown",
   "metadata": {
    "id": "WboxXf_42IA8"
   },
   "source": [
    "Train your DCNN and evaluate its performance proceeding exactly as before:"
   ]
  },
  {
   "cell_type": "code",
   "execution_count": 13,
   "metadata": {
    "colab": {
     "base_uri": "https://localhost:8080/"
    },
    "id": "1YIOjpeN-XVb",
    "outputId": "59e4a4e2-8bba-4ae8-d91b-ab00c5fd9080"
   },
   "outputs": [
    {
     "name": "stdout",
     "output_type": "stream",
     "text": [
      "(28, 28, 1)\n"
     ]
    }
   ],
   "source": [
    "print(input_shape)"
   ]
  },
  {
   "cell_type": "code",
   "execution_count": 14,
   "metadata": {
    "colab": {
     "base_uri": "https://localhost:8080/",
     "height": 704
    },
    "id": "I9WP7leC2IA8",
    "outputId": "4d081134-0682-4390-d993-9d6a91f610e2"
   },
   "outputs": [
    {
     "name": "stdout",
     "output_type": "stream",
     "text": [
      "Epoch 1/30\n",
      "1875/1875 [==============================] - 25s 13ms/step - loss: 0.4142 - acc: 0.8748 - val_loss: 0.1278 - val_acc: 0.9631\n",
      "Epoch 2/30\n",
      "1875/1875 [==============================] - 26s 14ms/step - loss: 0.1709 - acc: 0.9469 - val_loss: 0.0894 - val_acc: 0.9724\n",
      "Epoch 3/30\n",
      "1875/1875 [==============================] - 26s 14ms/step - loss: 0.1318 - acc: 0.9591 - val_loss: 0.0708 - val_acc: 0.9783\n",
      "Epoch 4/30\n",
      "1875/1875 [==============================] - 26s 14ms/step - loss: 0.1151 - acc: 0.9644 - val_loss: 0.0632 - val_acc: 0.9806\n",
      "Epoch 5/30\n",
      "1875/1875 [==============================] - 25s 13ms/step - loss: 0.1013 - acc: 0.9686 - val_loss: 0.0534 - val_acc: 0.9829\n",
      "Epoch 6/30\n",
      "1875/1875 [==============================] - 25s 13ms/step - loss: 0.0941 - acc: 0.9711 - val_loss: 0.0501 - val_acc: 0.9836\n",
      "Epoch 7/30\n",
      "1875/1875 [==============================] - 25s 13ms/step - loss: 0.0859 - acc: 0.9735 - val_loss: 0.0453 - val_acc: 0.9854\n",
      "Epoch 8/30\n",
      "1875/1875 [==============================] - 26s 14ms/step - loss: 0.0771 - acc: 0.9755 - val_loss: 0.0426 - val_acc: 0.9848\n",
      "Epoch 9/30\n",
      "1875/1875 [==============================] - 27s 14ms/step - loss: 0.0740 - acc: 0.9773 - val_loss: 0.0391 - val_acc: 0.9868\n",
      "Epoch 10/30\n",
      "1875/1875 [==============================] - 33s 18ms/step - loss: 0.0696 - acc: 0.9781 - val_loss: 0.0382 - val_acc: 0.9867\n",
      "Epoch 11/30\n",
      "1875/1875 [==============================] - 25s 13ms/step - loss: 0.0654 - acc: 0.9790 - val_loss: 0.0379 - val_acc: 0.9870\n",
      "Epoch 12/30\n",
      "1875/1875 [==============================] - 26s 14ms/step - loss: 0.0621 - acc: 0.9801 - val_loss: 0.0364 - val_acc: 0.9873\n",
      "Epoch 13/30\n",
      "1875/1875 [==============================] - 27s 14ms/step - loss: 0.0609 - acc: 0.9810 - val_loss: 0.0333 - val_acc: 0.9880\n",
      "Epoch 14/30\n",
      "1875/1875 [==============================] - 25s 13ms/step - loss: 0.0563 - acc: 0.9821 - val_loss: 0.0316 - val_acc: 0.9886\n",
      "Epoch 15/30\n",
      "1875/1875 [==============================] - 28s 15ms/step - loss: 0.0556 - acc: 0.9826 - val_loss: 0.0305 - val_acc: 0.9889\n",
      "Epoch 16/30\n",
      "1875/1875 [==============================] - 28s 15ms/step - loss: 0.0525 - acc: 0.9833 - val_loss: 0.0315 - val_acc: 0.9883\n",
      "Epoch 17/30\n",
      "1875/1875 [==============================] - 28s 15ms/step - loss: 0.0498 - acc: 0.9841 - val_loss: 0.0282 - val_acc: 0.9900\n",
      "Epoch 18/30\n",
      "1875/1875 [==============================] - 25s 13ms/step - loss: 0.0496 - acc: 0.9839 - val_loss: 0.0289 - val_acc: 0.9895\n",
      "Epoch 19/30\n",
      "1875/1875 [==============================] - 27s 15ms/step - loss: 0.0468 - acc: 0.9845 - val_loss: 0.0279 - val_acc: 0.9902\n",
      "Epoch 20/30\n",
      "1875/1875 [==============================] - 29s 16ms/step - loss: 0.0459 - acc: 0.9857 - val_loss: 0.0265 - val_acc: 0.9904\n",
      "Epoch 21/30\n",
      "1875/1875 [==============================] - 28s 15ms/step - loss: 0.0450 - acc: 0.9852 - val_loss: 0.0272 - val_acc: 0.9898\n",
      "Epoch 22/30\n",
      "1875/1875 [==============================] - 31s 17ms/step - loss: 0.0431 - acc: 0.9858 - val_loss: 0.0268 - val_acc: 0.9909\n",
      "Epoch 23/30\n",
      "1875/1875 [==============================] - 26s 14ms/step - loss: 0.0414 - acc: 0.9869 - val_loss: 0.0260 - val_acc: 0.9902\n",
      "Epoch 24/30\n",
      "1875/1875 [==============================] - 29s 15ms/step - loss: 0.0423 - acc: 0.9858 - val_loss: 0.0260 - val_acc: 0.9900\n",
      "Epoch 25/30\n",
      "1875/1875 [==============================] - 28s 15ms/step - loss: 0.0402 - acc: 0.9867 - val_loss: 0.0248 - val_acc: 0.9908\n",
      "Epoch 26/30\n",
      "1875/1875 [==============================] - 28s 15ms/step - loss: 0.0411 - acc: 0.9870 - val_loss: 0.0255 - val_acc: 0.9913\n",
      "Epoch 27/30\n",
      "1875/1875 [==============================] - 29s 15ms/step - loss: 0.0379 - acc: 0.9875 - val_loss: 0.0255 - val_acc: 0.9912\n",
      "Epoch 28/30\n",
      "1875/1875 [==============================] - 27s 14ms/step - loss: 0.0378 - acc: 0.9875 - val_loss: 0.0237 - val_acc: 0.9923\n",
      "Epoch 29/30\n",
      "1875/1875 [==============================] - 26s 14ms/step - loss: 0.0370 - acc: 0.9882 - val_loss: 0.0244 - val_acc: 0.9918\n",
      "Epoch 30/30\n",
      "1875/1875 [==============================] - 28s 15ms/step - loss: 0.0364 - acc: 0.9882 - val_loss: 0.0241 - val_acc: 0.9917\n",
      "313/313 [==============================] - 2s 7ms/step - loss: 0.0241 - acc: 0.9917\n",
      "\n",
      "Test loss: 0.024143937975168228\n",
      "Test accuracy: 0.9916999936103821\n"
     ]
    }
   ],
   "source": [
    "# training parameters\n",
    "batch_size = 32\n",
    "epochs = 30\n",
    "# create the deep conv net\n",
    "model_CNN=create_CNN()\n",
    "\n",
    "# train CNN\n",
    "history = model_CNN.fit(X_train, Y_train,\n",
    "          batch_size=batch_size,\n",
    "          epochs=epochs,\n",
    "          verbose=1,\n",
    "          validation_data=(X_test, Y_test))\n",
    "\n",
    "# evaliate model\n",
    "score = model_CNN.evaluate(X_test, Y_test, verbose=1)\n",
    "\n",
    "# print performance\n",
    "print()\n",
    "print('Test loss:', score[0])\n",
    "print('Test accuracy:', score[1])"
   ]
  },
  {
   "cell_type": "code",
   "execution_count": 15,
   "metadata": {
    "colab": {
     "base_uri": "https://localhost:8080/"
    },
    "id": "XAI_9E53Q3xI",
    "outputId": "500d0f45-73df-47ce-a3ef-4353bb066918"
   },
   "outputs": [
    {
     "data": {
      "text/plain": [
       "<keras.callbacks.History at 0x1f4c9238390>"
      ]
     },
     "execution_count": 15,
     "metadata": {},
     "output_type": "execute_result"
    }
   ],
   "source": [
    "model_CNN.history"
   ]
  },
  {
   "cell_type": "code",
   "execution_count": 16,
   "metadata": {
    "colab": {
     "base_uri": "https://localhost:8080/",
     "height": 881
    },
    "id": "-PkRAjGcQBc7",
    "outputId": "0b7f20b1-2b89-45ab-c023-9951c7078355"
   },
   "outputs": [
    {
     "data": {
      "image/png": "[encoded data removed]",
      "text/plain": [
       "<Figure size 640x480 with 1 Axes>"
      ]
     },
     "metadata": {},
     "output_type": "display_data"
    },
    {
     "data": {
      "image/png": "[encoded data removed]",
      "text/plain": [
       "<Figure size 640x480 with 1 Axes>"
      ]
     },
     "metadata": {},
     "output_type": "display_data"
    }
   ],
   "source": [
    "\n",
    "# look into training history\n",
    "\n",
    "# summarize history for accuracy\n",
    "plt.plot(history.history['acc'])\n",
    "plt.plot(history.history['val_acc'])\n",
    "plt.ylabel('model accuracy')\n",
    "plt.xlabel('epoch')\n",
    "plt.legend(['train', 'test'], loc='best')\n",
    "plt.show()\n",
    "\n",
    "# summarize history for loss\n",
    "plt.plot(history.history['loss'])\n",
    "plt.plot(history.history['val_loss'])\n",
    "plt.ylabel('model loss')\n",
    "plt.xlabel('epoch')\n",
    "plt.legend(['train', 'test'], loc='best')\n",
    "plt.show()"
   ]
  },
  {
   "cell_type": "markdown",
   "metadata": {
    "id": "3xpjjOHF2IA8"
   },
   "source": [
    "In the end, **<span style=\"color:red\">add the evaluation of your CNN performances</span>** like that used for the DNN."
   ]
  },
  {
   "cell_type": "code",
   "execution_count": 17,
   "metadata": {
    "colab": {
     "base_uri": "https://localhost:8080/",
     "height": 148
    },
    "id": "a0iBq0ZpbaoT",
    "outputId": "a233c422-c146-4e7b-875a-a1cf41df59a3"
   },
   "outputs": [
    {
     "ename": "NameError",
     "evalue": "name 'predictions' is not defined",
     "output_type": "error",
     "traceback": [
      "\u001b[1;31m---------------------------------------------------------------------------\u001b[0m",
      "\u001b[1;31mNameError\u001b[0m                                 Traceback (most recent call last)",
      "Cell \u001b[1;32mIn[17], line 7\u001b[0m\n\u001b[0;32m      5\u001b[0m     ax \u001b[38;5;241m=\u001b[39m plt\u001b[38;5;241m.\u001b[39msubplot(\u001b[38;5;241m2\u001b[39m, \u001b[38;5;241m10\u001b[39m, i \u001b[38;5;241m+\u001b[39m \u001b[38;5;241m1\u001b[39m)\n\u001b[0;32m      6\u001b[0m     plt\u001b[38;5;241m.\u001b[39mimshow(X_test[i, :, :, \u001b[38;5;241m0\u001b[39m], cmap\u001b[38;5;241m=\u001b[39m\u001b[38;5;124m'\u001b[39m\u001b[38;5;124mgray\u001b[39m\u001b[38;5;124m'\u001b[39m)\n\u001b[1;32m----> 7\u001b[0m     plt\u001b[38;5;241m.\u001b[39mtitle(\u001b[38;5;124m\"\u001b[39m\u001b[38;5;124mDigit: \u001b[39m\u001b[38;5;132;01m{}\u001b[39;00m\u001b[38;5;130;01m\\n\u001b[39;00m\u001b[38;5;124mPredicted:    \u001b[39m\u001b[38;5;132;01m{}\u001b[39;00m\u001b[38;5;124m\"\u001b[39m\u001b[38;5;241m.\u001b[39mformat(np\u001b[38;5;241m.\u001b[39margmax(Y_test[i]), np\u001b[38;5;241m.\u001b[39margmax(\u001b[43mpredictions\u001b[49m[i])))\n\u001b[0;32m      8\u001b[0m     plt\u001b[38;5;241m.\u001b[39maxis(\u001b[38;5;124m'\u001b[39m\u001b[38;5;124moff\u001b[39m\u001b[38;5;124m'\u001b[39m)\n\u001b[0;32m      9\u001b[0m plt\u001b[38;5;241m.\u001b[39mshow()\n",
      "\u001b[1;31mNameError\u001b[0m: name 'predictions' is not defined"
     ]
    },
    {
     "data": {
      "image/png": "[encoded data removed]",
      "text/plain": [
       "<Figure size 1500x1500 with 1 Axes>"
      ]
     },
     "metadata": {},
     "output_type": "display_data"
    }
   ],
   "source": [
    "X_test = X_test.reshape(X_test.shape[0], img_rows, img_cols,1)\n",
    "\n",
    "plt.figure(figsize=(15, 15))\n",
    "for i in range(10):\n",
    "    ax = plt.subplot(2, 10, i + 1)\n",
    "    plt.imshow(X_test[i, :, :, 0], cmap='gray')\n",
    "    plt.title(\"Digit: {}\\nPredicted:    {}\".format(np.argmax(Y_test[i]), np.argmax(predictions[i])))\n",
    "    plt.axis('off')\n",
    "plt.show()"
   ]
  },
  {
   "cell_type": "markdown",
   "metadata": {
    "id": "V9NIR1DZ2IA8"
   },
   "source": [
    "### Exercise 12.3\n",
    "\n",
    "Use the `gimp` application to create 10 pictures of your \"handwritten\" digits, import them in your jupyter-notebook and try to see if your CNN is able to recognize your handwritten digits.\n",
    "\n",
    "For example, you can use the following code to import a picture of an handwritten digit\n",
    "(Note: you should install Python Image Library (PIL/Pillow):"
   ]
  },
  {
   "cell_type": "code",
   "execution_count": 17,
   "metadata": {
    "colab": {
     "base_uri": "https://localhost:8080/",
     "height": 733
    },
    "id": "MBXinJ6h2IA9",
    "outputId": "dca2562f-8414-4aca-daee-897991f1c133"
   },
   "outputs": [
    {
     "data": {
      "text/html": [
       "\n",
       "     <input type=\"file\" id=\"files-e1457992-40ca-421b-8f47-01756a10c5ed\" name=\"files[]\" multiple disabled\n",
       "        style=\"border:none\" />\n",
       "     <output id=\"result-e1457992-40ca-421b-8f47-01756a10c5ed\">\n",
       "      Upload widget is only available when the cell has been executed in the\n",
       "      current browser session. Please rerun this cell to enable.\n",
       "      </output>\n",
       "      <script>// Copyright 2017 Google LLC\n",
       "//\n",
       "// Licensed under the Apache License, Version 2.0 (the \"License\");\n",
       "// you may not use this file except in compliance with the License.\n",
       "// You may obtain a copy of the License at\n",
       "//\n",
       "//      http://www.apache.org/licenses/LICENSE-2.0\n",
       "//\n",
       "// Unless required by applicable law or agreed to in writing, software\n",
       "// distributed under the License is distributed on an \"AS IS\" BASIS,\n",
       "// WITHOUT WARRANTIES OR CONDITIONS OF ANY KIND, either express or implied.\n",
       "// See the License for the specific language governing permissions and\n",
       "// limitations under the License.\n",
       "\n",
       "/**\n",
       " * @fileoverview Helpers for google.colab Python module.\n",
       " */\n",
       "(function(scope) {\n",
       "function span(text, styleAttributes = {}) {\n",
       "  const element = document.createElement('span');\n",
       "  element.textContent = text;\n",
       "  for (const key of Object.keys(styleAttributes)) {\n",
       "    element.style[key] = styleAttributes[key];\n",
       "  }\n",
       "  return element;\n",
       "}\n",
       "\n",
       "// Max number of bytes which will be uploaded at a time.\n",
       "const MAX_PAYLOAD_SIZE = 100 * 1024;\n",
       "\n",
       "function _uploadFiles(inputId, outputId) {\n",
       "  const steps = uploadFilesStep(inputId, outputId);\n",
       "  const outputElement = document.getElementById(outputId);\n",
       "  // Cache steps on the outputElement to make it available for the next call\n",
       "  // to uploadFilesContinue from Python.\n",
       "  outputElement.steps = steps;\n",
       "\n",
       "  return _uploadFilesContinue(outputId);\n",
       "}\n",
       "\n",
       "// This is roughly an async generator (not supported in the browser yet),\n",
       "// where there are multiple asynchronous steps and the Python side is going\n",
       "// to poll for completion of each step.\n",
       "// This uses a Promise to block the python side on completion of each step,\n",
       "// then passes the result of the previous step as the input to the next step.\n",
       "function _uploadFilesContinue(outputId) {\n",
       "  const outputElement = document.getElementById(outputId);\n",
       "  const steps = outputElement.steps;\n",
       "\n",
       "  const next = steps.next(outputElement.lastPromiseValue);\n",
       "  return Promise.resolve(next.value.promise).then((value) => {\n",
       "    // Cache the last promise value to make it available to the next\n",
       "    // step of the generator.\n",
       "    outputElement.lastPromiseValue = value;\n",
       "    return next.value.response;\n",
       "  });\n",
       "}\n",
       "\n",
       "/**\n",
       " * Generator function which is called between each async step of the upload\n",
       " * process.\n",
       " * @param {string} inputId Element ID of the input file picker element.\n",
       " * @param {string} outputId Element ID of the output display.\n",
       " * @return {!Iterable<!Object>} Iterable of next steps.\n",
       " */\n",
       "function* uploadFilesStep(inputId, outputId) {\n",
       "  const inputElement = document.getElementById(inputId);\n",
       "  inputElement.disabled = false;\n",
       "\n",
       "  const outputElement = document.getElementById(outputId);\n",
       "  outputElement.innerHTML = '';\n",
       "\n",
       "  const pickedPromise = new Promise((resolve) => {\n",
       "    inputElement.addEventListener('change', (e) => {\n",
       "      resolve(e.target.files);\n",
       "    });\n",
       "  });\n",
       "\n",
       "  const cancel = document.createElement('button');\n",
       "  inputElement.parentElement.appendChild(cancel);\n",
       "  cancel.textContent = 'Cancel upload';\n",
       "  const cancelPromise = new Promise((resolve) => {\n",
       "    cancel.onclick = () => {\n",
       "      resolve(null);\n",
       "    };\n",
       "  });\n",
       "\n",
       "  // Wait for the user to pick the files.\n",
       "  const files = yield {\n",
       "    promise: Promise.race([pickedPromise, cancelPromise]),\n",
       "    response: {\n",
       "      action: 'starting',\n",
       "    }\n",
       "  };\n",
       "\n",
       "  cancel.remove();\n",
       "\n",
       "  // Disable the input element since further picks are not allowed.\n",
       "  inputElement.disabled = true;\n",
       "\n",
       "  if (!files) {\n",
       "    return {\n",
       "      response: {\n",
       "        action: 'complete',\n",
       "      }\n",
       "    };\n",
       "  }\n",
       "\n",
       "  for (const file of files) {\n",
       "    const li = document.createElement('li');\n",
       "    li.append(span(file.name, {fontWeight: 'bold'}));\n",
       "    li.append(span(\n",
       "        `(${file.type || 'n/a'}) - ${file.size} bytes, ` +\n",
       "        `last modified: ${\n",
       "            file.lastModifiedDate ? file.lastModifiedDate.toLocaleDateString() :\n",
       "                                    'n/a'} - `));\n",
       "    const percent = span('0% done');\n",
       "    li.appendChild(percent);\n",
       "\n",
       "    outputElement.appendChild(li);\n",
       "\n",
       "    const fileDataPromise = new Promise((resolve) => {\n",
       "      const reader = new FileReader();\n",
       "      reader.onload = (e) => {\n",
       "        resolve(e.target.result);\n",
       "      };\n",
       "      reader.readAsArrayBuffer(file);\n",
       "    });\n",
       "    // Wait for the data to be ready.\n",
       "    let fileData = yield {\n",
       "      promise: fileDataPromise,\n",
       "      response: {\n",
       "        action: 'continue',\n",
       "      }\n",
       "    };\n",
       "\n",
       "    // Use a chunked sending to avoid message size limits. See b/62115660.\n",
       "    let position = 0;\n",
       "    do {\n",
       "      const length = Math.min(fileData.byteLength - position, MAX_PAYLOAD_SIZE);\n",
       "      const chunk = new Uint8Array(fileData, position, length);\n",
       "      position += length;\n",
       "\n",
       "      const base64 = btoa(String.fromCharCode.apply(null, chunk));\n",
       "      yield {\n",
       "        response: {\n",
       "          action: 'append',\n",
       "          file: file.name,\n",
       "          data: base64,\n",
       "        },\n",
       "      };\n",
       "\n",
       "      let percentDone = fileData.byteLength === 0 ?\n",
       "          100 :\n",
       "          Math.round((position / fileData.byteLength) * 100);\n",
       "      percent.textContent = `${percentDone}% done`;\n",
       "\n",
       "    } while (position < fileData.byteLength);\n",
       "  }\n",
       "\n",
       "  // All done.\n",
       "  yield {\n",
       "    response: {\n",
       "      action: 'complete',\n",
       "    }\n",
       "  };\n",
       "}\n",
       "\n",
       "scope.google = scope.google || {};\n",
       "scope.google.colab = scope.google.colab || {};\n",
       "scope.google.colab._files = {\n",
       "  _uploadFiles,\n",
       "  _uploadFilesContinue,\n",
       "};\n",
       "})(self);\n",
       "</script> "
      ],
      "text/plain": [
       "<IPython.core.display.HTML object>"
      ]
     },
     "metadata": {},
     "output_type": "display_data"
    },
    {
     "name": "stdout",
     "output_type": "stream",
     "text": [
      "Saving 0a.png to 0a.png\n",
      "Saving 0b.png to 0b.png\n",
      "Saving 1a.png to 1a.png\n",
      "Saving 1b.png to 1b.png\n",
      "Saving 1c.png to 1c.png\n",
      "Saving 2a.png to 2a.png\n",
      "Saving 2b.png to 2b.png\n",
      "Saving 3a.png to 3a.png\n",
      "Saving 3b.png to 3b.png\n",
      "Saving 4a.png to 4a.png\n",
      "Saving 5a.png to 5a.png\n",
      "Saving 6a.png to 6a.png\n",
      "Saving 7a.png to 7a.png\n",
      "Saving 7b.png to 7b.png\n",
      "Saving 7c.png to 7c.png\n",
      "Saving 7d.png to 7d.png\n",
      "Saving 8a.png to 8a.png\n",
      "Saving 9a.png to 9a.png\n",
      "Saving 9b.png to 9b.png\n",
      "Saving NaNa.png to NaNa.png\n"
     ]
    }
   ],
   "source": [
    "# TO LOAD FILES ON GOOGLE COLAB\n",
    "from google.colab import files\n",
    "upload = files.upload() #this will let you browse and choose the file to be uploaded"
   ]
  },
  {
   "cell_type": "code",
   "execution_count": 18,
   "metadata": {
    "id": "zwuqiQZpKO7h"
   },
   "outputs": [],
   "source": [
    "import os\n",
    "imgs = os.listdir(\"./Pictures/\")"
   ]
  },
  {
   "cell_type": "code",
   "execution_count": 19,
   "metadata": {
    "colab": {
     "base_uri": "https://localhost:8080/"
    },
    "id": "rHRGHzzJ2IA9",
    "outputId": "58fc40f9-80ca-4330-d25f-cd5c9cee7291"
   },
   "outputs": [
    {
     "name": "stdout",
     "output_type": "stream",
     "text": [
      "Image size: 28x28\n",
      "(28, 28)\n",
      "Image size: 28x28\n",
      "(28, 28)\n",
      "Image size: 28x28\n",
      "(28, 28)\n",
      "Image size: 28x28\n",
      "(28, 28)\n",
      "Image size: 28x28\n",
      "(28, 28)\n",
      "Image size: 28x28\n",
      "(28, 28)\n",
      "Image size: 28x28\n",
      "(28, 28)\n",
      "Image size: 28x28\n",
      "(28, 28)\n",
      "Image size: 28x28\n",
      "(28, 28)\n",
      "Image size: 28x28\n",
      "(28, 28)\n",
      "Image size: 28x28\n",
      "(28, 28)\n",
      "Image size: 28x28\n",
      "(28, 28)\n",
      "Image size: 28x28\n",
      "(28, 28)\n",
      "Image size: 28x28\n",
      "(28, 28)\n",
      "Image size: 28x28\n",
      "(28, 28)\n",
      "Image size: 28x28\n",
      "(28, 28)\n",
      "Image size: 28x28\n",
      "(28, 28)\n",
      "Image size: 28x28\n",
      "(28, 28)\n",
      "Image size: 28x28\n",
      "(28, 28)\n",
      "Image size: 28x28\n",
      "(28, 28)\n"
     ]
    }
   ],
   "source": [
    "from PIL import Image\n",
    "import os\n",
    "\n",
    "my_digits = []\n",
    "\n",
    "for img in imgs:\n",
    "  digit_filename = img\n",
    "  digit_in = Image.open(\"./Pictures/{}\".format(img)).convert('L')\n",
    "  #digit_in = Image.open(\"NaNa.png\").convert('L') #ON GOOGLE COLAB INSERT THE NAME OF THE UPLOADED FILE\n",
    "\n",
    "  ydim, xdim = digit_in.size\n",
    "  print(\"Image size: \"+str(xdim)+\"x\"+str(ydim))\n",
    "  pix=digit_in.load();\n",
    "  data = np.zeros((xdim, ydim))\n",
    "  for j in range(ydim):\n",
    "      for i in range(xdim):\n",
    "          data[i,j]=pix[j,i]\n",
    "\n",
    "  data /= 255\n",
    "\n",
    "#  plt.figure(figsize=(5,5))\n",
    "#  plt.imshow(data, cmap='gray')\n",
    "#  plt.show()\n",
    "  my_digits.append(data)\n",
    "  print(data.shape)"
   ]
  },
  {
   "cell_type": "markdown",
   "metadata": {
    "id": "y-RSPNma2IA9"
   },
   "source": [
    "I use the previously trained DNN to predict the digit:"
   ]
  },
  {
   "cell_type": "code",
   "execution_count": 20,
   "metadata": {
    "colab": {
     "base_uri": "https://localhost:8080/",
     "height": 1000
    },
    "id": "KIhrpuGl2IA-",
    "outputId": "5694b762-0732-4d13-ef6a-71e4cf920603"
   },
   "outputs": [
    {
     "name": "stdout",
     "output_type": "stream",
     "text": [
      "(28, 28)\n",
      "(28, 28, 1)\n",
      "1/1 [==============================] - 0s 84ms/step\n",
      "(28, 28)\n",
      "(28, 28, 1)\n",
      "1/1 [==============================] - 0s 17ms/step\n",
      "(28, 28)\n",
      "(28, 28, 1)\n",
      "1/1 [==============================] - 0s 18ms/step\n",
      "(28, 28)\n",
      "(28, 28, 1)\n",
      "1/1 [==============================] - 0s 25ms/step\n",
      "(28, 28)\n",
      "(28, 28, 1)\n",
      "1/1 [==============================] - 0s 23ms/step\n",
      "(28, 28)\n",
      "(28, 28, 1)\n",
      "1/1 [==============================] - 0s 25ms/step\n",
      "(28, 28)\n",
      "(28, 28, 1)\n",
      "1/1 [==============================] - 0s 22ms/step\n",
      "(28, 28)\n",
      "(28, 28, 1)\n",
      "1/1 [==============================] - 0s 23ms/step\n",
      "(28, 28)\n",
      "(28, 28, 1)\n",
      "1/1 [==============================] - 0s 26ms/step\n",
      "(28, 28)\n",
      "(28, 28, 1)\n",
      "1/1 [==============================] - 0s 24ms/step\n",
      "(28, 28)\n",
      "(28, 28, 1)\n",
      "1/1 [==============================] - 0s 23ms/step\n",
      "(28, 28)\n",
      "(28, 28, 1)\n",
      "1/1 [==============================] - 0s 24ms/step\n",
      "(28, 28)\n",
      "(28, 28, 1)\n",
      "1/1 [==============================] - 0s 26ms/step\n",
      "(28, 28)\n",
      "(28, 28, 1)\n",
      "1/1 [==============================] - 0s 28ms/step\n",
      "(28, 28)\n",
      "(28, 28, 1)\n",
      "1/1 [==============================] - 0s 25ms/step\n",
      "(28, 28)\n",
      "(28, 28, 1)\n",
      "1/1 [==============================] - 0s 30ms/step\n",
      "(28, 28)\n",
      "(28, 28, 1)\n",
      "1/1 [==============================] - 0s 29ms/step\n",
      "(28, 28)\n",
      "(28, 28, 1)\n",
      "1/1 [==============================] - 0s 26ms/step\n",
      "(28, 28)\n",
      "(28, 28, 1)\n",
      "1/1 [==============================] - 0s 28ms/step\n",
      "(28, 28)\n",
      "(28, 28, 1)\n",
      "1/1 [==============================] - 0s 24ms/step\n"
     ]
    },
    {
     "data": {
      "image/png": "[encoded data removed]",
      "text/plain": [
       "<Figure size 1500x500 with 20 Axes>"
      ]
     },
     "metadata": {},
     "output_type": "display_data"
    },
    {
     "data": {
      "text/plain": [
       "<Figure size 640x480 with 0 Axes>"
      ]
     },
     "metadata": {},
     "output_type": "display_data"
    }
   ],
   "source": [
    "plt.figure(figsize=(15, 5))\n",
    "i = 0\n",
    "for dig in my_digits:\n",
    "  print(dig.shape)\n",
    "  data = dig.reshape(input_shape)\n",
    "  print(data.shape)\n",
    "  pred_0 = model_CNN.predict(dig.reshape(1, 28, 28, 1))\n",
    "\n",
    "  #data = data.reshape(xdim,ydim)\n",
    "\n",
    "  ax = plt.subplot(2, 10, i + 1)\n",
    "  plt.imshow(dig, cmap='gray')\n",
    "  plt.title(\"Predicted:  {}\".format(np.argmax(pred_0)))\n",
    "  plt.axis('off')\n",
    "  i += 1\n",
    "plt.show()\n",
    "plt.savefig(\"predict.png\", dpi = 300)"
   ]
  },
  {
   "cell_type": "markdown",
   "metadata": {},
   "source": [
    "Out of the 19 digits drawn for the test (without counting the test with something that isn't a digit) the CNN got 13 right. It mostly seems to be having issues recognizing the number 7 (confusing it with the number 2) getting it wrong 2 out of four samples, both times confusing it for a 2."
   ]
  },
  {
   "cell_type": "markdown",
   "metadata": {
    "id": "naWxdMiz2IA-"
   },
   "source": [
    "### <span style=\"color:green\">Supplementary information 1: Use of `gimp` </span>\n",
    "\n",
    "- from the Unix shell type: `gimp` and hit `Return`\n",
    "- File -> new (chose: 28x28 pixels)\n",
    "- rascale the image to 800%\n",
    "- Use the **brush** with dimension 2px to draw your digit\n",
    "- Color -> invert (to have black background)\n",
    "- Export the image as a `.png` file\n",
    "\n",
    "That's all!"
   ]
  },
  {
   "cell_type": "markdown",
   "metadata": {
    "id": "iegCkh0m2IA-"
   },
   "source": [
    "### <span style=\"color:green\">Supplementary information 2: Display trained filters in your CNN</span>"
   ]
  },
  {
   "cell_type": "markdown",
   "metadata": {
    "id": "y20l7JYa2IA-"
   },
   "source": [
    "Print your NN layers:"
   ]
  },
  {
   "cell_type": "code",
   "execution_count": null,
   "metadata": {
    "colab": {
     "background_save": true
    },
    "id": "2mYnPowk2IA_"
   },
   "outputs": [],
   "source": [
    "layer_index=0\n",
    "for layer in model_CNN.layers:\n",
    "    print(layer_index, layer.name)\n",
    "    layer_index+=1"
   ]
  },
  {
   "cell_type": "markdown",
   "metadata": {
    "id": "QbuOCBec2IA_"
   },
   "source": [
    "Display your filters:"
   ]
  },
  {
   "cell_type": "code",
   "execution_count": null,
   "metadata": {
    "colab": {
     "background_save": true
    },
    "id": "ip72-0IL2IA_"
   },
   "outputs": [],
   "source": [
    "# layer_index should be the index of a convolutional layer\n",
    "layer_index=0\n",
    "# retrieve weights from the convolutional hidden layer\n",
    "filters, biases = model_CNN.layers[layer_index].get_weights()\n",
    "# normalize filter values to 0-1 so we can visualize them\n",
    "f_min, f_max = filters.min(), filters.max()\n",
    "filters = (filters - f_min) / (f_max - f_min)\n",
    "print(filters.shape)\n",
    "\n",
    "# plot filters\n",
    "n_filters, ix = filters.shape[3], 1\n",
    "for i in range(n_filters):\n",
    "    # get the filter\n",
    "    f = filters[:, :, :, i]\n",
    "    # specify subplot and turn of axis\n",
    "    ax = plt.subplot(1,n_filters, ix)\n",
    "    ax.set_xticks([])\n",
    "    ax.set_yticks([])\n",
    "    # plot filter channel in grayscale\n",
    "    plt.imshow(f[:, :, 0], cmap='gray')\n",
    "    ix += 1\n",
    "# show the figure\n",
    "plt.show()"
   ]
  },
  {
   "cell_type": "markdown",
   "metadata": {
    "id": "AE9I7B_P2IBX"
   },
   "source": [
    "### <span style=\"color:green\">Supplementary information 3: Monitor layer outputs in your CNN</span>"
   ]
  },
  {
   "cell_type": "code",
   "execution_count": null,
   "metadata": {
    "colab": {
     "background_save": true
    },
    "id": "VXlinfvW2IBX"
   },
   "outputs": [],
   "source": [
    "test_index = 3\n",
    "\n",
    "from keras.models import Model\n",
    "layer_outputs = [layer.output for layer in model_CNN.layers]\n",
    "activation_model = Model(inputs=model_CNN.input, outputs=layer_outputs)\n",
    "activations = activation_model.predict(X_test[test_index].reshape(1,28,28,1))\n",
    "\n",
    "def display_activation(activations, col_size, row_size, layer_index):\n",
    "    activation = activations[layer_index]\n",
    "    activation_index=0\n",
    "    fig, ax = plt.subplots(row_size, col_size, figsize=(row_size*3,col_size*3))\n",
    "    for row in range(0,row_size):\n",
    "        for col in range(0,col_size):\n",
    "            ax[row][col].imshow(activation[0, :, :, activation_index], cmap='gray')\n",
    "            activation_index += 1"
   ]
  },
  {
   "cell_type": "code",
   "execution_count": null,
   "metadata": {
    "colab": {
     "background_save": true
    },
    "id": "fOLR7SPc2IBX"
   },
   "outputs": [],
   "source": [
    "%matplotlib inline\n",
    "plt.imshow(X_test[test_index][:,:,0], cmap='gray')\n",
    "# def display_activation(activations, col_size, row_size, layer number)\n",
    "display_activation(activations, 4, 2, 0)\n",
    "# col_size x row_size must be <= Number of filters for the convolutional layer"
   ]
  }
 ],
 "metadata": {
  "accelerator": "GPU",
  "colab": {
   "provenance": []
  },
  "kernelspec": {
   "display_name": "Python 3 (ipykernel)",
   "language": "python",
   "name": "python3"
  },
  "language_info": {
   "codemirror_mode": {
    "name": "ipython",
    "version": 3
   },
   "file_extension": ".py",
   "mimetype": "text/x-python",
   "name": "python",
   "nbconvert_exporter": "python",
   "pygments_lexer": "ipython3",
   "version": "3.11.3"
  }
 },
 "nbformat": 4,
 "nbformat_minor": 1
}
